{
 "cells": [
  {
   "cell_type": "code",
   "execution_count": 4,
   "metadata": {},
   "outputs": [
    {
     "name": "stdout",
     "output_type": "stream",
     "text": [
      "Se ha creado la pelicula El padrino\n"
     ]
    }
   ],
   "source": [
    "class Pelicula:\n",
    "    # constructor de clase\n",
    "    def __init__(self,titulo,duracion,lanzamiento) -> None:\n",
    "        self.titulo = titulo\n",
    "        self.duracion = duracion\n",
    "        self.lanzamiento = lanzamiento\n",
    "        print(f\"Se ha creado la pelicula {self.titulo}\")\n",
    "\n",
    "    # destructor de clase\n",
    "    def __del__(self) -> None:\n",
    "        print(f\"Se ha borrado la pelicula {self.titulo}\")\n",
    "\n",
    "    # Redefinimos el metodo string\n",
    "    def __str__(self) -> str:\n",
    "        return f\"{self.titulo} fue lanzada en {self.lanzamiento} con una duración de {self.duracion} minutos\"\n",
    "\n",
    "peli = Pelicula(\"El padrino\",175,1972)"
   ]
  },
  {
   "cell_type": "code",
   "execution_count": 5,
   "metadata": {},
   "outputs": [
    {
     "data": {
      "text/plain": [
       "'El padrino fue lanzada en 1972 con una duración de 175 minutos'"
      ]
     },
     "execution_count": 5,
     "metadata": {},
     "output_type": "execute_result"
    }
   ],
   "source": [
    "str(peli)"
   ]
  },
  {
   "cell_type": "code",
   "execution_count": 6,
   "metadata": {},
   "outputs": [
    {
     "name": "stdout",
     "output_type": "stream",
     "text": [
      "Se ha creado la pelicula El padrino\n",
      "Se ha borrado la pelicula El padrino\n"
     ]
    }
   ],
   "source": [
    "class Pelicula:\n",
    "    # constructor de clase\n",
    "    def __init__(self,titulo,duracion,lanzamiento) -> None:\n",
    "        self.titulo = titulo\n",
    "        self.duracion = duracion\n",
    "        self.lanzamiento = lanzamiento\n",
    "        print(f\"Se ha creado la pelicula {self.titulo}\")\n",
    "\n",
    "    # destructor de clase\n",
    "    def __del__(self) -> None:\n",
    "        print(f\"Se ha borrado la pelicula {self.titulo}\")\n",
    "\n",
    "    # Redefinimos el metodo string\n",
    "    def __str__(self) -> str:\n",
    "        return f\"{self.titulo} fue lanzada en {self.lanzamiento} con una duración de {self.duracion} minutos\"\n",
    "\n",
    "    # Redefinir el metodo length\n",
    "    def __len__(self):\n",
    "        return self.duracion\n",
    "\n",
    "peli = Pelicula(\"El padrino\",175,1972)"
   ]
  },
  {
   "cell_type": "code",
   "execution_count": 7,
   "metadata": {},
   "outputs": [
    {
     "data": {
      "text/plain": [
       "175"
      ]
     },
     "execution_count": 7,
     "metadata": {},
     "output_type": "execute_result"
    }
   ],
   "source": [
    "len(peli)"
   ]
  },
  {
   "cell_type": "code",
   "execution_count": null,
   "metadata": {},
   "outputs": [],
   "source": []
  }
 ],
 "metadata": {
  "kernelspec": {
   "display_name": "Python 3",
   "language": "python",
   "name": "python3"
  },
  "language_info": {
   "codemirror_mode": {
    "name": "ipython",
    "version": 3
   },
   "file_extension": ".py",
   "mimetype": "text/x-python",
   "name": "python",
   "nbconvert_exporter": "python",
   "pygments_lexer": "ipython3",
   "version": "3.10.6"
  },
  "vscode": {
   "interpreter": {
    "hash": "916dbcbb3f70747c44a77c7bcd40155683ae19c65e1c03b4aa3499c5328201f1"
   }
  }
 },
 "nbformat": 4,
 "nbformat_minor": 0
}
