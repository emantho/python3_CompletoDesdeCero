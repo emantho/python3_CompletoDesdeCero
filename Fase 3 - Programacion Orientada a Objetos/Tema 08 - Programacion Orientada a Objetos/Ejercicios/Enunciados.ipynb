{
 "cells": [
  {
   "cell_type": "markdown",
   "metadata": {},
   "source": [
    "# Tema 08 - Programacion Orientada a Objetos (Enunciados)\n",
    "*Nota: Estos ejercicios son optativos para hacer al final de la unidad y están pensados para apoyar tu aprendizaje*."
   ]
  },
  {
   "cell_type": "markdown",
   "metadata": {},
   "source": [
    "**En este ejercicio vas a trabajar el concepto de puntos, coordenadas y vectores sobre el plano cartesiano y cómo la programación Orientada a Objetos puede ser una excelente aliada para trabajar con ellos. No está pensado para que hagas ningún tipo de cálculo sino para que practiques la automatización de tareas.**\n",
    "\n",
    "*Nota: Creo que es un ejemplo muy interesante, punto de partida en la programación de gráficos, pero si consideras que esto no lo tuyo puedes simplemente pasar de largo. Ahora bien, debes ser consciente de que te vas a perder uno de los ejercicios más interesantes del curso.*\n",
    "\n",
    "**Antes de continuar voy a explicar brevemente los conceptos básicos por si alguien necesita un repaso.**\n",
    "\n",
    "## El plano cartesiano\n",
    "\n",
    "Representa un espacio bidimensional (en 2 dimensiones), formado por dos rectas perpendiculares, una horizontal y otra vertical que se cortan en un punto. La recta horizontal se denomina eje de las abscisas o **eje X**, mientras que la vertical recibe el nombre de eje de las ordenadas o simplemente **eje Y**. En cuanto al punto donde se cortan, se conoce como el **punto de origen O**.\n",
    "\n",
    "<img src=\"https://docs.hektorprofe.net/cdn/ejemplos_edv/python/eje.jpg\" width=\"350\" />\n",
    "\n",
    "Es importante remarcar que el plano se divide en 4 cuadrantes:\n",
    "\n",
    "<img src=\"https://docs.hektorprofe.net/cdn/ejemplos_edv/python/cuadrante.jpg\" width=\"350\" />\n",
    "\n",
    "## Puntos y coordenadas\n",
    "\n",
    "El objetivo de todo esto es describir la posición de **puntos** sobre el plano en forma de **coordenadas**, que se forman asociando el valor del eje de las X (horizontal) con el valor del eje Y (vertical).\n",
    "\n",
    "La representación de un punto es sencilla: **P(X,Y)** dónde X y la Y son la distancia horizontal (izquierda o derecha) y vertical (arriba o abajo) respectivamente, utilizando como referencia el punto de origen (0,0), justo en el centro del plano.\n",
    "\n",
    "<img src=\"https://docs.hektorprofe.net/cdn/ejemplos_edv/python/Cartesian-coordinate-system.svg.png\" width=\"300\" />\n",
    "\n",
    "\n",
    "## Vectores en el plano\n",
    "\n",
    "Finalmente, un vector en el plano hace referencia a un segmento orientado, generado a partir de dos puntos distintos. \n",
    "\n",
    "A efectos prácticos no deja de ser una línea formada desde un punto inicial en dirección a otro punto final, por lo que se entiende que un vector tiene longitud y dirección/sentido.\n",
    "\n",
    "\n",
    "<img src=\"https://docs.hektorprofe.net/cdn/ejemplos_edv/python/vector3.png\" width=\"300\" />\n",
    "\n",
    "En esta figura, podemos observar dos puntos A y B que podríamos definir de la siguiente forma:\n",
    "* **A(x1, y1)** => **A(2, 3)**\n",
    "* **B(x2, y2)** => **B(5, 5)**\n",
    "\n",
    "Y el vector se representaría como la diferencia entre las coordendas del segundo punto respecto al primero (el segundo menos el primero):\n",
    "* **AB = (x2-x1, y2-y1)** => **(5-2, 5-3)** => **(3,2)** \n",
    "\n",
    "Lo que en definitiva no deja de ser: 3 a la derecha y 2 arriba.\n",
    "\n",
    "Y con esto finalizamos este mini repaso."
   ]
  },
  {
   "cell_type": "markdown",
   "metadata": {},
   "source": [
    "# El ejercicio\n",
    "\n",
    "#### Preparación\n",
    "\n",
    "* Crea una clase llamada **Punto** con sus dos coordenadas X e Y.\n",
    "* Añade un método **constructor** para crear puntos fácilmente. Si no se reciben una coordenada, su valor será cero.\n",
    "* Sobreescribe el método **string**, para que al imprimir por pantalla un punto aparezca en formato (X,Y)\n",
    "* Añade un método llamado **cuadrante** que indique a qué cuadrante pertenece el punto, o si es el origen.\n",
    "* Añade un método llamado **vector**, que tome otro punto y calcule el vector resultante entre los dos puntos.\n",
    "* (Optativo) Añade un método llamado **distancia**, que tome otro punto y calcule la distancia entre los dos puntos y la muestre por pantalla. La fórmula es la siguiente:\n",
    "\n",
    "<img src=\"https://docs.hektorprofe.net/cdn/ejemplos_edv/python/distancia.png\" width=\"250\" />\n",
    "\n",
    "*Nota: La función raíz cuadrada en Python sqrt() se debe importar del módulo math y utilizarla de la siguiente forma:*\n",
    "```python\n",
    "import math\n",
    "math.sqrt(9)\n",
    "> 3.0\n",
    "```\n",
    "\n",
    "* Crea una clase llamada **Rectangulo** con dos puntos (inicial y final) que formarán la diagonal del rectángulo.\n",
    "* Añade un método **constructor** para crear ambos puntos fácilmente, si no se envían se crearán dos puntos en el origen por defecto.\n",
    "* Añade al rectángulo un método llamado **base** que muestre la base.\n",
    "* Añade al rectángulo un método llamado **altura** que muestre la altura.\n",
    "* Añade al rectángulo un método llamado **area** que muestre el area.\n",
    "\n",
    "*Puedes identificar fácilmente estos valores si intentas dibujar el cuadrado a partir de su  diagonal. Si andas perdido, prueba de dibujarlo en un papel, ¡seguro que lo verás mucho más claro! Además recuerda que puedes utilizar la función **abs()** para saber el valor absolute de un número.*\n",
    "\n",
    "#### Experimentación\n",
    "* Crea los puntos A(2, 3),  B(5,5), C(-3, -1) y D(0,0) e imprimelos por pantalla.\n",
    "* Consulta a que cuadrante pertenecen el punto A, C y D.\n",
    "* Consulta los vectores AB y BA.\n",
    "* (Optativo) Consulta la distancia entre los puntos 'A y B' y 'B y A'. \n",
    "* (Optativo) Determina cual de los 3 puntos A, B o C, se encuentra más lejos del origen, punto (0,0). \n",
    "* Crea un rectángulo utilizando los puntos A y B.\n",
    "* Consulta la base, altura y área del rectángulo."
   ]
  },
  {
   "cell_type": "code",
   "execution_count": 34,
   "metadata": {
    "collapsed": false
   },
   "outputs": [
    {
     "name": "stdout",
     "output_type": "stream",
     "text": [
      "Se ha creado un punto en las coordenadas X= 0, Y= 0\n",
      "Se ha creado un punto en las coordenadas X= 0, Y= 0\n"
     ]
    }
   ],
   "source": [
    "# Completa el ejercicio aquí\n",
    "\n",
    "## Crea una clase llamada **Punto** con sus dos coordenadas X e Y.\n",
    "## Añade un método **constructor** para crear puntos fácilmente. Si no se reciben una coordenada, su valor será cero.\n",
    "\n",
    "import math\n",
    "\n",
    "class Punto:\n",
    "\n",
    "    def __init__(self, x=0, y=0) -> None:\n",
    "        self.coord_x = x\n",
    "        self.coord_y = y\n",
    "        print(f\"Se ha creado un punto en las coordenadas X= {x}, Y= {y}\")\n",
    "\n",
    "## Sobreescribe el método **string**, para que al imprimir por pantalla un punto aparezca en formato (X,Y)\n",
    "\n",
    "    def __str__(self) -> str:\n",
    "        return f\"{self.coord_x,self.coord_y}\"\n",
    "    \n",
    "\n",
    "## Añade un método llamado **cuadrante** que indique a qué cuadrante pertenece el punto, o si es el origen.\n",
    "\n",
    "    def cuadrante(self):\n",
    "        if self.coord_x > 0 and self.coord_y > 0:\n",
    "            print(f\"Punto {self} se encuentra en el cuadrante I\")\n",
    "        elif self.coord_x < 0 and self.coord_y > 0:\n",
    "            print(f\"Punto {self} se encuentra en el cuadrante II\")\n",
    "        elif self.coord_x < 0 and self.coord_y < 0:\n",
    "            print(f\"Punto {self} se encuentra en el cuadrante III\")\n",
    "        elif self.coord_x > 0 and self.coord_y < 0:\n",
    "            print(f\"Punto {self} se encuentra en el cuadrante IV\")\n",
    "        else:\n",
    "            print(f\"El punto {self} está en el origen\")\n",
    "\n",
    "## Añade un método llamado **vector**, que tome otro punto y calcule el vector resultante entre los dos puntos.\n",
    "\n",
    "    def vector(self, p):\n",
    "        print(f\"El vector entre {self} y {p} es AB {p.coord_x-self.coord_x, p.coord_y-self.coord_y}\") # vector = despla_x, despla_y\n",
    "\n",
    "## Añade un método llamado **distancia**, que tome otro punto y calcule la distancia entre los dos puntos y la muestre por pantalla.\n",
    "\n",
    "    def distancia(self,p):\n",
    "        d = math.sqrt((p.coord_x - self.coord_x)**2 + (p.coord_y - self.coord_y)**2)\n",
    "        print(f\"La distancia entre los puntos {self} y {p} es d= {d:.3f}\")\n",
    "\n",
    "\n",
    "## Crea una clase llamada **Rectangulo** con dos puntos (inicial y final) que formarán la diagonal del rectángulo.\n",
    "## Añade un método **constructor** para crear ambos puntos fácilmente, si no se envían se crearán dos puntos en el origen por defecto\n",
    "\n",
    "class Rectangulo:\n",
    "    \n",
    "    def __init__(self, pInicial = Punto(), pFinal = Punto()):\n",
    "        self.pInicial = pInicial\n",
    "        self.pFinal = pFinal\n",
    "\n",
    "## Añade al rectángulo un método llamado **base** que muestre la base. (desplazamiento en eje X)\n",
    "    def base(self):\n",
    "        self.base = abs(self.pFinal.coord_x - self.pInicial.coord_x)\n",
    "        print(f\"La base del rectangulo es {self.base}\")\n",
    "\n",
    "## Añade al rectángulo un método llamado **altura** que muestre la altura. (desplazamiento en eje Y)\n",
    "    def altura(self):\n",
    "        self.altura = abs(self.pFinal.coord_y - self.pInicial.coord_y)\n",
    "        print(f\"La altura del rectangulo es {self.altura}\")\n",
    "\n",
    "## Añade al rectángulo un método llamado **area** que muestre el area.\n",
    "    def area(self):\n",
    "        self.base = abs(self.pFinal.coord_x - self.pInicial.coord_x)\n",
    "        self.altura = abs(self.pFinal.coord_y - self.pInicial.coord_y)\n",
    "        self.area = self.base * self.altura\n",
    "        print(f\"El área del rectangulo es {self.area}\")\n",
    " "
   ]
  },
  {
   "cell_type": "code",
   "execution_count": 35,
   "metadata": {},
   "outputs": [
    {
     "name": "stdout",
     "output_type": "stream",
     "text": [
      "Se ha creado un punto en las coordenadas X= 2, Y= 3\n",
      "Se ha creado un punto en las coordenadas X= 5, Y= 5\n",
      "Se ha creado un punto en las coordenadas X= -3, Y= -1\n",
      "Se ha creado un punto en las coordenadas X= 0, Y= 0\n"
     ]
    }
   ],
   "source": [
    "A = Punto(2,3)\n",
    "B = Punto(5,5)\n",
    "C = Punto(-3,-1)\n",
    "D = Punto(0,0)\n"
   ]
  },
  {
   "cell_type": "code",
   "execution_count": 36,
   "metadata": {},
   "outputs": [
    {
     "name": "stdout",
     "output_type": "stream",
     "text": [
      "(2, 3)\n",
      "(5, 5)\n",
      "(-3, -1)\n",
      "(0, 0)\n"
     ]
    }
   ],
   "source": [
    "print(str(A))\n",
    "print(str(B))\n",
    "print(str(C))\n",
    "print(str(D))"
   ]
  },
  {
   "cell_type": "code",
   "execution_count": 37,
   "metadata": {},
   "outputs": [
    {
     "name": "stdout",
     "output_type": "stream",
     "text": [
      "Punto (2, 3) se encuentra en el cuadrante I\n",
      "Punto (5, 5) se encuentra en el cuadrante I\n",
      "Punto (-3, -1) se encuentra en el cuadrante III\n",
      "El punto (0, 0) está en el origen\n"
     ]
    }
   ],
   "source": [
    "A.cuadrante()\n",
    "B.cuadrante()\n",
    "C.cuadrante()\n",
    "D.cuadrante()\n"
   ]
  },
  {
   "cell_type": "code",
   "execution_count": 38,
   "metadata": {},
   "outputs": [
    {
     "name": "stdout",
     "output_type": "stream",
     "text": [
      "El vector entre (2, 3) y (5, 5) es AB (3, 2)\n",
      "El vector entre (5, 5) y (2, 3) es AB (-3, -2)\n"
     ]
    }
   ],
   "source": [
    "A.vector(B)\n",
    "B.vector(A)"
   ]
  },
  {
   "cell_type": "code",
   "execution_count": 39,
   "metadata": {},
   "outputs": [
    {
     "name": "stdout",
     "output_type": "stream",
     "text": [
      "La distancia entre los puntos (2, 3) y (5, 5) es d= 3.606\n",
      "La distancia entre los puntos (5, 5) y (2, 3) es d= 3.606\n"
     ]
    }
   ],
   "source": [
    "A.distancia(B)\n",
    "B.distancia(A)"
   ]
  },
  {
   "cell_type": "code",
   "execution_count": 43,
   "metadata": {},
   "outputs": [],
   "source": [
    "r = Rectangulo(A,B)"
   ]
  },
  {
   "cell_type": "code",
   "execution_count": 44,
   "metadata": {},
   "outputs": [
    {
     "name": "stdout",
     "output_type": "stream",
     "text": [
      "La base del rectangulo es 3\n",
      "La altura del rectangulo es 2\n",
      "El área del rectangulo es 6\n"
     ]
    }
   ],
   "source": [
    "r.base()\n",
    "r.altura()\n",
    "r.area()"
   ]
  },
  {
   "cell_type": "code",
   "execution_count": null,
   "metadata": {},
   "outputs": [],
   "source": []
  }
 ],
 "metadata": {
  "anaconda-cloud": {},
  "kernelspec": {
   "display_name": "Python 3",
   "language": "python",
   "name": "python3"
  },
  "language_info": {
   "codemirror_mode": {
    "name": "ipython",
    "version": 3
   },
   "file_extension": ".py",
   "mimetype": "text/x-python",
   "name": "python",
   "nbconvert_exporter": "python",
   "pygments_lexer": "ipython3",
   "version": "3.10.6"
  },
  "vscode": {
   "interpreter": {
    "hash": "916dbcbb3f70747c44a77c7bcd40155683ae19c65e1c03b4aa3499c5328201f1"
   }
  }
 },
 "nbformat": 4,
 "nbformat_minor": 0
}
