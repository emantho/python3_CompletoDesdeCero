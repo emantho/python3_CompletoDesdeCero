{
 "cells": [
  {
   "cell_type": "code",
   "execution_count": 1,
   "metadata": {},
   "outputs": [],
   "source": [
    "class Galleta:\n",
    "    pass\n",
    "una_galleta = Galleta()"
   ]
  },
  {
   "cell_type": "code",
   "execution_count": 2,
   "metadata": {},
   "outputs": [],
   "source": [
    "una_galleta.sabor = \"Salado\"\n",
    "una_galleta.color = \"Marrón\""
   ]
  },
  {
   "cell_type": "code",
   "execution_count": 3,
   "metadata": {},
   "outputs": [
    {
     "name": "stdout",
     "output_type": "stream",
     "text": [
      "El sabor de esta galleta es: Salado y el color es Marrón\n"
     ]
    }
   ],
   "source": [
    "print(f\"El sabor de esta galleta es: {una_galleta.sabor} y el color es {una_galleta.color}\")"
   ]
  },
  {
   "cell_type": "code",
   "execution_count": 4,
   "metadata": {},
   "outputs": [],
   "source": [
    "class Galleta:\n",
    "    chocolate = False\n",
    "    \n",
    "una_galleta = Galleta()"
   ]
  },
  {
   "cell_type": "code",
   "execution_count": 5,
   "metadata": {},
   "outputs": [
    {
     "data": {
      "text/plain": [
       "False"
      ]
     },
     "execution_count": 5,
     "metadata": {},
     "output_type": "execute_result"
    }
   ],
   "source": [
    "g = Galleta()\n",
    "g.chocolate"
   ]
  },
  {
   "cell_type": "code",
   "execution_count": 6,
   "metadata": {},
   "outputs": [
    {
     "data": {
      "text/plain": [
       "True"
      ]
     },
     "execution_count": 6,
     "metadata": {},
     "output_type": "execute_result"
    }
   ],
   "source": [
    "g.chocolate = True\n",
    "g.chocolate"
   ]
  },
  {
   "attachments": {},
   "cell_type": "markdown",
   "metadata": {},
   "source": [
    "#### __init__ y self\n",
    "__init__ metodo especial que se ejecuta siempre al crear un nuevo objeto, y permite enviarle argunmentos durante la instanciación; debe llevar __ __\n",
    "\n",
    "self -> Hace referencia al propio objeto y sirve para diferenciar entre ambito de clase y metodo, requisito implicito para llamarse al objeto mismo \n",
    "\n"
   ]
  },
  {
   "cell_type": "code",
   "execution_count": 7,
   "metadata": {},
   "outputs": [
    {
     "name": "stdout",
     "output_type": "stream",
     "text": [
      "Se acaba de crear una galleta.\n"
     ]
    }
   ],
   "source": [
    "class Galleta:\n",
    "    chocolate = False\n",
    "    def __init__(self) -> None:\n",
    "        print(\"Se acaba de crear una galleta.\")\n",
    "\n",
    "g = Galleta()"
   ]
  },
  {
   "cell_type": "code",
   "execution_count": 10,
   "metadata": {},
   "outputs": [
    {
     "name": "stdout",
     "output_type": "stream",
     "text": [
      "Se acaba de crear una galleta.\n"
     ]
    },
    {
     "data": {
      "text/plain": [
       "True"
      ]
     },
     "execution_count": 10,
     "metadata": {},
     "output_type": "execute_result"
    }
   ],
   "source": [
    "class Galleta:\n",
    "    chocolate = False # Atributo de clase\n",
    "    \n",
    "    def __init__(self) -> None:\n",
    "        print(\"Se acaba de crear una galleta.\")\n",
    "\n",
    "    def chocolatear(self):\n",
    "        self.chocolate = True # se requiere aplicarle el self. antes del atributo para que se aplique al objeto galleta\n",
    "\n",
    "g = Galleta()\n",
    "g.chocolatear()\n",
    "g.chocolate"
   ]
  },
  {
   "cell_type": "code",
   "execution_count": 11,
   "metadata": {},
   "outputs": [
    {
     "name": "stdout",
     "output_type": "stream",
     "text": [
      "Se acaba de crear una galleta.\n",
      "Soy una galleta sin chocolate :-(\n",
      "Soy una galleta chocolateada! :-D\n"
     ]
    }
   ],
   "source": [
    "class Galleta:\n",
    "    chocolate = False # Atributo de clase\n",
    "    \n",
    "    def __init__(self) -> None:\n",
    "        print(\"Se acaba de crear una galleta.\")\n",
    "\n",
    "    def chocolatear(self):\n",
    "        self.chocolate = True # se requiere aplicarle el self. antes del atributo para que se aplique al objeto galleta\n",
    "\n",
    "    def tiene_chocolate(self):\n",
    "        if self.chocolate:\n",
    "            print(f\"Soy una galleta chocolateada! :-D\")\n",
    "        else:\n",
    "            print(f\"Soy una galleta sin chocolate :-(\")\n",
    "\n",
    "g = Galleta()\n",
    "g.tiene_chocolate()\n",
    "g.chocolatear()\n",
    "g.tiene_chocolate()"
   ]
  },
  {
   "cell_type": "code",
   "execution_count": 21,
   "metadata": {},
   "outputs": [
    {
     "name": "stdout",
     "output_type": "stream",
     "text": [
      "Se acaba de crear una galleta Vainilla y de forma Cuadrada.\n"
     ]
    }
   ],
   "source": [
    "class Galleta:\n",
    "    chocolate = False # Atributo de clase\n",
    "    \n",
    "    def __init__(self, sabor=None, forma=None) -> None:\n",
    "        self.sabor = sabor\n",
    "        self.forma = forma\n",
    "        if sabor is not None and forma is not None: # Para evitar que imprima los Nono usamos if \n",
    "            print(f\"Se acaba de crear una galleta {sabor} y de forma {forma}.\")\n",
    "        else:\n",
    "            print(f\"Se acaba de crear una galleta.\")\n",
    "\n",
    "    def chocolatear(self):\n",
    "        self.chocolate = True # se requiere aplicarle el self. antes del atributo para que se aplique al objeto galleta\n",
    "\n",
    "    def tiene_chocolate(self):\n",
    "        if self.chocolate:\n",
    "            print(f\"Soy una galleta chocolateada! :-D\")\n",
    "        else:\n",
    "            print(f\"Soy una galleta sin chocolate :-(\")\n",
    "\n",
    "g = Galleta('Vainilla','Cuadrada')"
   ]
  },
  {
   "cell_type": "code",
   "execution_count": null,
   "metadata": {},
   "outputs": [],
   "source": []
  }
 ],
 "metadata": {
  "kernelspec": {
   "display_name": "Python 3",
   "language": "python",
   "name": "python3"
  },
  "language_info": {
   "codemirror_mode": {
    "name": "ipython",
    "version": 3
   },
   "file_extension": ".py",
   "mimetype": "text/x-python",
   "name": "python",
   "nbconvert_exporter": "python",
   "pygments_lexer": "ipython3",
   "version": "3.10.6"
  },
  "vscode": {
   "interpreter": {
    "hash": "916dbcbb3f70747c44a77c7bcd40155683ae19c65e1c03b4aa3499c5328201f1"
   }
  }
 },
 "nbformat": 4,
 "nbformat_minor": 0
}
