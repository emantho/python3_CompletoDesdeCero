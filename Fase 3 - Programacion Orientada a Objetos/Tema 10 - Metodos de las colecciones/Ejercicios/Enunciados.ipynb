{
 "cells": [
  {
   "cell_type": "markdown",
   "metadata": {},
   "source": [
    "# Tema 10: Métodos de las colecciones (Enunciados)\n",
    "*Nota: Estos ejercicios son optativos para hacer al final de la unidad y están pensados para apoyar tu aprendizaje*."
   ]
  },
  {
   "cell_type": "markdown",
   "metadata": {},
   "source": [
    "**1) Utilizando todo lo que sabes sobre cadenas, listas, sus métodos internos... Transforma este texto:**\n",
    "\n",
    "```\n",
    "un día que el viento soplaba con fuerza#mira como se mueve aquella banderola -dijo un monje#lo que se mueve es el viento -respondió otro monje#ni las banderolas ni el viento, lo que se mueve son vuestras mentes -dijo el maestro\n",
    "```\n",
    "**En este otro:**\n",
    "\n",
    "```\n",
    "Un día que el viento soplaba con fuerza...\n",
    "- Mira como se mueve aquella banderola -dijo un monje.\n",
    "- Lo que se mueve es el viento -respondió otro monje.\n",
    "- Ni las banderolas ni el viento, lo que se mueve son vuestras mentes -dijo el maestro.\n",
    "```\n",
    "**Lo único prohibido es modificar directamente el texto**"
   ]
  },
  {
   "cell_type": "code",
   "execution_count": 23,
   "metadata": {
    "collapsed": false
   },
   "outputs": [],
   "source": [
    "# Completa el ejercicio aquí\n",
    "texto = \"un día que el viento soplaba con fuerza#mira como se mueve aquella banderola -dijo un monje#lo que se mueve es el viento -respondió otro monje#ni las banderolas ni el viento, lo que se mueve son vuestras mentes -dijo el maestro\"\n",
    "# texto = texto.split('#')\n",
    "\n",
    "\n"
   ]
  },
  {
   "attachments": {},
   "cell_type": "markdown",
   "metadata": {},
   "source": [
    "Solución 1"
   ]
  },
  {
   "cell_type": "code",
   "execution_count": null,
   "metadata": {},
   "outputs": [],
   "source": [
    "# texto\n",
    "\n",
    "if 'fuerza' in texto:\n",
    "    texto = texto.replace('fuerza','fuerza...')\n",
    "if 'monje' in texto:\n",
    "    texto = texto.replace('monje','monje.')\n",
    "if 'maestro' in texto:\n",
    "    texto = texto.replace('maestro','maestro.')\n",
    "if  '#' in texto:\n",
    "    texto = texto.replace('#','\\n -')\n",
    "\n",
    "print(texto)"
   ]
  },
  {
   "attachments": {},
   "cell_type": "markdown",
   "metadata": {},
   "source": [
    "Solución 2"
   ]
  },
  {
   "cell_type": "code",
   "execution_count": 24,
   "metadata": {},
   "outputs": [
    {
     "name": "stdout",
     "output_type": "stream",
     "text": [
      "un día que el viento soplaba con fuerza...\n",
      "- mira como se mueve aquella banderola -dijo un monje.\n",
      "- lo que se mueve es el viento -respondió otro monje.\n",
      "- ni las banderolas ni el viento, lo que se mueve son vuestras mentes -dijo el maestro.\n"
     ]
    }
   ],
   "source": [
    "to_replace = ['fuerza','monje','maestro']\n",
    "spares = ['fuerza...','monje.','maestro.']\n",
    "#texto = texto.split('#')\n",
    "for i in range(len(spares)):\n",
    "    #print(to_replace[i])\n",
    "    if to_replace[i] in texto:\n",
    "        texto = texto.replace(to_replace[i],spares[i])\n",
    "\n",
    "texto = texto.replace('#','\\n- ')\n",
    "print(texto)"
   ]
  },
  {
   "attachments": {},
   "cell_type": "markdown",
   "metadata": {},
   "source": [
    "Solución 3"
   ]
  },
  {
   "cell_type": "code",
   "execution_count": null,
   "metadata": {},
   "outputs": [],
   "source": [
    "texto = texto.replace('#','\\n- ') \n",
    "texto = texto.replace('fuerza','fuerza...')\n",
    "texto = texto.replace('monje','monje.')\n",
    "texto = texto.replace('maestro','mestro.')\n",
    "print(texto)\n",
    "\n"
   ]
  },
  {
   "attachments": {},
   "cell_type": "markdown",
   "metadata": {},
   "source": [
    "Solución del tutor"
   ]
  },
  {
   "cell_type": "code",
   "execution_count": 33,
   "metadata": {},
   "outputs": [
    {
     "name": "stdout",
     "output_type": "stream",
     "text": [
      "Un día que el viento soplaba con fuerza...\n",
      "- Mira como se mueve aquella banderola -dijo un monje.\n",
      "- Lo que se mueve es el viento -respondió otro monje.\n",
      "- Ni las banderolas ni el viento, lo que se mueve son vuestras mentes -dijo el maestro.\n"
     ]
    }
   ],
   "source": [
    "# Completa el ejercicio aquí\n",
    "texto = \"un día que el viento soplaba con fuerza#mira como se mueve aquella banderola -dijo un monje#lo que se mueve es el viento -respondió otro monje#ni las banderolas ni el viento, lo que se mueve son vuestras mentes -dijo el maestro\"\n",
    "\n",
    "lineas = texto.split(\"#\")\n",
    "for i, linea in enumerate(lineas):\n",
    "    \n",
    "    lineas[i] = linea.capitalize()\n",
    "    if i == 0:\n",
    "        lineas[i] = lineas[i] + \"...\"\n",
    "\n",
    "    else:\n",
    "        lineas[i] = \"- \" + lineas[i] + \".\"\n",
    "\n",
    "# Mostramos el texto final\n",
    "for linea in lineas:\n",
    "    print(linea)"
   ]
  },
  {
   "cell_type": "code",
   "execution_count": 34,
   "metadata": {},
   "outputs": [
    {
     "name": "stdout",
     "output_type": "stream",
     "text": [
      "['casados', 'carro', 'perro']\n",
      "<class 'list'>\n"
     ]
    }
   ],
   "source": [
    "listaaa = ['casa', 'carro', 'perro']\n",
    "listaaa[0] = listaaa[0] + 'dos'\n",
    "print(listaaa)\n",
    "print(type(listaaa))"
   ]
  },
  {
   "cell_type": "markdown",
   "metadata": {},
   "source": [
    "**2) Crea una función modificar() que a partir de una lista de números realice las siguientes tareas sin modificar la original:**\n",
    "\n",
    "* Borrar los elementos duplicados\n",
    "* Ordenar la lista de mayor a menor\n",
    "* Eliminar todos los números impares\n",
    "* Realizar una suma de todos los números que quedan\n",
    "* Añadir como primer elemento de la lista la suma realizada\n",
    "* Devolver la lista modificada\n",
    "* Finalmente, después de ejecutar la función, comprueba que la suma de todos los números a partir del segundo, concuerda con el primer número de la lista, tal que así:\n",
    "```python\n",
    "nueva_lista = modificar(lista)\n",
    "print( nueva_lista[0] == sum(nueva_lista[1:]) )\n",
    "> True\n",
    "```\n",
    "\n",
    "*Nota: La función sum(lista) devuelve una suma de los elementos de una lista*"
   ]
  },
  {
   "cell_type": "code",
   "execution_count": 63,
   "metadata": {
    "collapsed": false
   },
   "outputs": [],
   "source": [
    "# Completa el ejercicio aquí\n",
    "lista = [29, -5, -12, 17, 5, 24, 5, 12, 23, 16, 12, 5, -12, 17]\n",
    "\n",
    "def modificar(lista):\n",
    "\n",
    "    lista_2 = lista[:]\n",
    "    # Borrar los elementos duplicados\n",
    "    lista_2 = list(set(lista_2))\n",
    "\n",
    "    # Ordenar la lista de mayor a menor\n",
    "    lista_2.sort(reverse=True)\n",
    "    #print(lista_2)\n",
    "    \n",
    "     # Eliminar todos los números impares\n",
    "    lista_3 = []\n",
    "    for i in lista_2:\n",
    "        if i % 2 == 0:\n",
    "            lista_3.append(i)\n",
    "    \n",
    "    lista_2 = lista_3[:]\n",
    "    #print(lista_2)\n",
    "\n",
    "    # Realizar una suma de todos los números que quedan\n",
    "    sumatoria = sum(lista_2)\n",
    "    #print(sumatoria)\n",
    "\n",
    "    # Añadir como primer elemento de la lista la suma realizada\n",
    "    lista_2.insert(0,sumatoria)\n",
    "\n",
    "    # Devolver la lista modificada\n",
    "    return lista_2\n",
    "\n"
   ]
  },
  {
   "cell_type": "code",
   "execution_count": 66,
   "metadata": {},
   "outputs": [
    {
     "name": "stdout",
     "output_type": "stream",
     "text": [
      "True\n"
     ]
    }
   ],
   "source": [
    "nueva_lista = modificar(lista)\n",
    "print( nueva_lista[0] == sum(nueva_lista[1:]) )"
   ]
  },
  {
   "cell_type": "code",
   "execution_count": null,
   "metadata": {},
   "outputs": [],
   "source": []
  }
 ],
 "metadata": {
  "anaconda-cloud": {},
  "kernelspec": {
   "display_name": "Python 3",
   "language": "python",
   "name": "python3"
  },
  "language_info": {
   "codemirror_mode": {
    "name": "ipython",
    "version": 3
   },
   "file_extension": ".py",
   "mimetype": "text/x-python",
   "name": "python",
   "nbconvert_exporter": "python",
   "pygments_lexer": "ipython3",
   "version": "3.10.6"
  },
  "vscode": {
   "interpreter": {
    "hash": "916dbcbb3f70747c44a77c7bcd40155683ae19c65e1c03b4aa3499c5328201f1"
   }
  }
 },
 "nbformat": 4,
 "nbformat_minor": 0
}
