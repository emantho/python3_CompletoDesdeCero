{
 "cells": [
  {
   "cell_type": "code",
   "execution_count": 1,
   "metadata": {},
   "outputs": [],
   "source": [
    "class Producto:\n",
    "\n",
    "    def __init__(self, referencia, tipo, nombre, pvp, descripcion, productor=None, distribuidor=None, isbn=None, autor=None):\n",
    "        self.referencia = referencia\n",
    "        self.tipo = tipo\n",
    "        self.pvp = pvp\n",
    "        self.descripcion = descripcion\n",
    "        self.productor = productor\n",
    "        self.distribuidor = distribuidor\n",
    "        self.isbn = isbn\n",
    "        self.autor = autor\n",
    "\n",
    "adorno = Producto('0000A','ADORNO','Vaso Adornado',15,'Vaso de porcelana con dibujos')"
   ]
  },
  {
   "cell_type": "code",
   "execution_count": 2,
   "metadata": {},
   "outputs": [
    {
     "data": {
      "text/plain": [
       "<__main__.Producto at 0x7f30e1639630>"
      ]
     },
     "execution_count": 2,
     "metadata": {},
     "output_type": "execute_result"
    }
   ],
   "source": [
    "adorno"
   ]
  },
  {
   "cell_type": "code",
   "execution_count": 3,
   "metadata": {},
   "outputs": [
    {
     "data": {
      "text/plain": [
       "'ADORNO'"
      ]
     },
     "execution_count": 3,
     "metadata": {},
     "output_type": "execute_result"
    }
   ],
   "source": [
    "adorno.tipo"
   ]
  },
  {
   "cell_type": "code",
   "execution_count": 8,
   "metadata": {},
   "outputs": [
    {
     "name": "stdout",
     "output_type": "stream",
     "text": [
      "REFERENCIA\t2034\n",
      "NOMBRE\t\tVaso adorndo\n",
      "PVP\t\t15\n",
      "DESCRIPCION\tVaso de porcelana adornado con arboles        \n",
      "        \n"
     ]
    }
   ],
   "source": [
    "class Producto:\n",
    "\n",
    "    def __init__(self, referencia, nombre, pvp, descripcion):\n",
    "        self.referencia = referencia\n",
    "        self.nombre = nombre\n",
    "        self.pvp = pvp\n",
    "        self.descripcion = descripcion\n",
    "    def __str__(self) -> str:\n",
    "        return f\"\"\"\\\n",
    "REFERENCIA\\t{self.referencia}\n",
    "NOMBRE\\t\\t{self.nombre}\n",
    "PVP\\t\\t{self.pvp}\n",
    "DESCRIPCION\\t{self.descripcion}        \n",
    "        \"\"\"\n",
    "\n",
    "class Adorno(Producto):\n",
    "    pass\n",
    "\n",
    "ad = Adorno(2034,'Vaso adorndo',15,'Vaso de porcelana adornado con arboles')\n",
    "print(ad)\n"
   ]
  },
  {
   "cell_type": "code",
   "execution_count": 9,
   "metadata": {},
   "outputs": [
    {
     "name": "stdout",
     "output_type": "stream",
     "text": [
      "REFERENCIA\t2035\n",
      "NOMBRE\t\tBotella de Aceite de Oliva Extra\n",
      "PVP\t\t5\n",
      "DESCRIPCION\t250 ML        \n",
      "PRODUCTOR\tLa aceitera\n",
      "DISTRIBUIDOR\tDistribuiciones SA\n",
      "        \n"
     ]
    }
   ],
   "source": [
    "class Alimento(Producto):\n",
    "    productor = \"\"\n",
    "    distribuidor = \"\"\n",
    "\n",
    "    def __str__(self) -> str:\n",
    "        return f\"\"\"\\\n",
    "REFERENCIA\\t{self.referencia}\n",
    "NOMBRE\\t\\t{self.nombre}\n",
    "PVP\\t\\t{self.pvp}\n",
    "DESCRIPCION\\t{self.descripcion}        \n",
    "PRODUCTOR\\t{self.productor}\n",
    "DISTRIBUIDOR\\t{self.distribuidor}\n",
    "        \"\"\"\n",
    "\n",
    "al = Alimento(2035, 'Botella de Aceite de Oliva Extra',5,'250 ML')\n",
    "al.productor = \"La aceitera\"\n",
    "al.distribuidor = 'Distribuiciones SA'\n",
    "\n",
    "\n",
    "print(al)"
   ]
  },
  {
   "cell_type": "code",
   "execution_count": 12,
   "metadata": {},
   "outputs": [
    {
     "name": "stdout",
     "output_type": "stream",
     "text": [
      "REFERENCIA\t2036\n",
      "NOMBRE\t\tCocina mediterranea\n",
      "PVP\t\t9\n",
      "DESCRIPCION\tRecetas sanas y buenas        \n",
      "ISBN\t\t0-123456-78-9\n",
      "AUTOR\t\tDoña Juana\n",
      "        \n"
     ]
    }
   ],
   "source": [
    "class Libro(Producto):\n",
    "    isbn = \"\"\n",
    "    autor = \"\"\n",
    "\n",
    "    def __str__(self) -> str:\n",
    "        return f\"\"\"\\\n",
    "REFERENCIA\\t{self.referencia}\n",
    "NOMBRE\\t\\t{self.nombre}\n",
    "PVP\\t\\t{self.pvp}\n",
    "DESCRIPCION\\t{self.descripcion}        \n",
    "ISBN\\t\\t{self.isbn}\n",
    "AUTOR\\t\\t{self.autor}\n",
    "        \"\"\"\n",
    "\n",
    "li = Libro(2036, 'Cocina mediterranea',9,'Recetas sanas y buenas')\n",
    "li.isbn = \"0-123456-78-9\"\n",
    "li.autor = 'Doña Juana'\n",
    "print(li)"
   ]
  },
  {
   "cell_type": "code",
   "execution_count": null,
   "metadata": {},
   "outputs": [],
   "source": []
  }
 ],
 "metadata": {
  "kernelspec": {
   "display_name": "Python 3",
   "language": "python",
   "name": "python3"
  },
  "language_info": {
   "codemirror_mode": {
    "name": "ipython",
    "version": 3
   },
   "file_extension": ".py",
   "mimetype": "text/x-python",
   "name": "python",
   "nbconvert_exporter": "python",
   "pygments_lexer": "ipython3",
   "version": "3.10.6"
  },
  "vscode": {
   "interpreter": {
    "hash": "916dbcbb3f70747c44a77c7bcd40155683ae19c65e1c03b4aa3499c5328201f1"
   }
  }
 },
 "nbformat": 4,
 "nbformat_minor": 0
}
