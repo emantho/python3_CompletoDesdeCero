{
 "cells": [
  {
   "cell_type": "code",
   "execution_count": 2,
   "metadata": {
    "collapsed": true
   },
   "outputs": [
    {
     "name": "stdout",
     "output_type": "stream",
     "text": [
      "Hola Mundo\n",
      "Hola Mundo\n",
      "Este texto incluye '' \n"
     ]
    }
   ],
   "source": [
    "print('Hola Mundo')\n",
    "print(\"Hola Mundo\")\n",
    "print(\"Este texto incluye '' \")"
   ]
  },
  {
   "cell_type": "code",
   "execution_count": 4,
   "metadata": {},
   "outputs": [
    {
     "name": "stdout",
     "output_type": "stream",
     "text": [
      "Esta 'palabra' esta se encuentra entre comillas simples\n",
      "Esta \"palabra\" esta se encuentra entre comillas dobles y usa un caracter de escape \\ \n"
     ]
    }
   ],
   "source": [
    "print(\"Esta 'palabra' esta se encuentra entre comillas simples\")\n",
    "print(\"Esta \\\"palabra\\\" esta se encuentra entre comillas dobles y usa un caracter de escape \\ \")"
   ]
  },
  {
   "cell_type": "code",
   "execution_count": 6,
   "metadata": {},
   "outputs": [
    {
     "name": "stdout",
     "output_type": "stream",
     "text": [
      "Un texto \tuna tabulación\n",
      "Un texto \n",
      "un salto de linea\n"
     ]
    }
   ],
   "source": [
    "print(\"Un texto \\tuna tabulación\")\n",
    "print(\"Un texto \\nun salto de linea\")"
   ]
  },
  {
   "cell_type": "code",
   "execution_count": 8,
   "metadata": {},
   "outputs": [
    {
     "name": "stdout",
     "output_type": "stream",
     "text": [
      "C:\n",
      "ombre\\directorio\n",
      "C:\\nombre\\directorio\n"
     ]
    }
   ],
   "source": [
    "print(\"C:\\nombre\\directorio\") #esto genera un salto de linea\n",
    "# para evitar esto se una la r de raw para eviar que vea la \\ como caracter especial\n",
    "print(r\"C:\\nombre\\directorio\") #esto evita el salto de linea"
   ]
  },
  {
   "cell_type": "code",
   "execution_count": 9,
   "metadata": {},
   "outputs": [
    {
     "name": "stdout",
     "output_type": "stream",
     "text": [
      "Una linea\n",
      "otra linea\n",
      "otra linea\tuna tabulación\n"
     ]
    }
   ],
   "source": [
    "print(\"\"\"Una linea\n",
    "otra linea\n",
    "otra linea\\tuna tabulación\"\"\")"
   ]
  },
  {
   "cell_type": "code",
   "execution_count": 18,
   "metadata": {},
   "outputs": [
    {
     "data": {
      "text/plain": [
       "'Esto es una cadena \\ncon dos lineas'"
      ]
     },
     "execution_count": 18,
     "metadata": {},
     "output_type": "execute_result"
    }
   ],
   "source": [
    "c = \"Esto es una cadena \\ncon dos lineas\"\n",
    "c"
   ]
  },
  {
   "cell_type": "code",
   "execution_count": 19,
   "metadata": {},
   "outputs": [
    {
     "name": "stdout",
     "output_type": "stream",
     "text": [
      "Esto es una cadena \n",
      "con dos lineas\n"
     ]
    }
   ],
   "source": [
    "print(c)"
   ]
  },
  {
   "cell_type": "code",
   "execution_count": 20,
   "metadata": {},
   "outputs": [
    {
     "data": {
      "text/plain": [
       "'Esto es una cadena \\ncon dos lineasEsto es una cadena \\ncon dos lineas'"
      ]
     },
     "execution_count": 20,
     "metadata": {},
     "output_type": "execute_result"
    }
   ],
   "source": [
    "c+c"
   ]
  },
  {
   "cell_type": "code",
   "execution_count": 22,
   "metadata": {},
   "outputs": [
    {
     "name": "stdout",
     "output_type": "stream",
     "text": [
      "una cadenacompuesta de dos cadenas\n"
     ]
    }
   ],
   "source": [
    "s = \"una cadena\" \"compuesta de dos cadenas\"\n",
    "print(s)"
   ]
  },
  {
   "cell_type": "code",
   "execution_count": 26,
   "metadata": {},
   "outputs": [
    {
     "name": "stdout",
     "output_type": "stream",
     "text": [
      "una cadenaotra cadena\n",
      "una cadena otra cadena\n"
     ]
    }
   ],
   "source": [
    "c1 = \"una cadena\"\n",
    "c2 = \"otra cadena\"\n",
    "print(c1 + c2)\n",
    "print(\"una cadena \" + c2)\n"
   ]
  },
  {
   "cell_type": "code",
   "execution_count": 27,
   "metadata": {},
   "outputs": [
    {
     "name": "stdout",
     "output_type": "stream",
     "text": [
      "          un texto a diez espacios\n"
     ]
    }
   ],
   "source": [
    "diez_espacios = \" \" * 10\n",
    "print(diez_espacios + \"un texto a diez espacios\")"
   ]
  },
  {
   "cell_type": "code",
   "execution_count": 30,
   "metadata": {},
   "outputs": [
    {
     "name": "stdout",
     "output_type": "stream",
     "text": [
      "p\n",
      "p\n",
      "n\n"
     ]
    }
   ],
   "source": [
    "palabra = \"python\"\n",
    "print(palabra[0]) # caracter en posición 0\n",
    "#          +---+---+---+---+---+---+ \n",
    "#          | p | y | t | h | o | n |\n",
    "#          +---+---+---+---+---+---+ \n",
    "#          | 0 | 1 | 2 | 3 | 4 | 5 |\n",
    "#          +---+---+---+---+---+---+ \n",
    "#          |-6 |-5 |-4 |-3 |-2 |-1 |\n",
    "#          +---+---+---+---+---+---+\n",
    "print(palabra[-6]) # caracter en posición -6\n",
    "print(palabra[-1]) # caracter en posición -6"
   ]
  },
  {
   "cell_type": "code",
   "execution_count": 32,
   "metadata": {},
   "outputs": [
    {
     "name": "stdout",
     "output_type": "stream",
     "text": [
      "py\n"
     ]
    }
   ],
   "source": [
    "print(palabra[0:2])"
   ]
  },
  {
   "cell_type": "code",
   "execution_count": 33,
   "metadata": {},
   "outputs": [
    {
     "name": "stdout",
     "output_type": "stream",
     "text": [
      "tho\n"
     ]
    }
   ],
   "source": [
    "print(palabra[2:-1])"
   ]
  },
  {
   "cell_type": "code",
   "execution_count": 35,
   "metadata": {},
   "outputs": [
    {
     "name": "stdout",
     "output_type": "stream",
     "text": [
      "6\n"
     ]
    }
   ],
   "source": [
    "print(len(palabra))"
   ]
  },
  {
   "attachments": {},
   "cell_type": "markdown",
   "metadata": {},
   "source": [
    "### Slicing\n",
    "\n",
    "Al realizar una consulta en un registro hemos obtenido una cadena de texto al revés. Al parecer contiene el nombre de un alumno, la nota de un exámen y la materia. Realiza lo siguiente:\n",
    "\n",
    "Voltea la cadena y guárdala en una variable llamada cadena_volteada. Puedes devolver una cadena volteada usando un tercer índice negativo con slicing tal que así: cadena[::-1]\n",
    "\n",
    "Extrae el nombre y apellido del alumno y almacénalos en una variable llamada nombre.\n",
    "\n",
    "Extrae la nota y almacénala en una variable llamada nota.\n",
    "\n",
    "Extrae la materia y almacénala en una variable llamada materia.\n",
    "\n",
    "Genera exactamente la siguiente estructura formateando las anteriores variables en una cadena llamada cadena_formateada donde nombre, nota y materia hacen referencia a las variables extraídas:\n",
    "\n",
    "{nombre} ha sacado un {nota} en {materia}\n",
    "Ejemplo:\n",
    "\n",
    "Ramón García ha sacado un 8.1 en Matemáticas\n",
    "Notas y consejos:\n",
    "\n",
    "Todas las variables del enunciado deben existir y contener el valor correcto para pasar las pruebas.\n",
    "\n",
    "Utiliza slicing para extraer las porciones de la cadena que te interesan.\n",
    "\n",
    "Crea tantas variables como necesites para hacerlo más sencillo."
   ]
  },
  {
   "cell_type": "code",
   "execution_count": 38,
   "metadata": {},
   "outputs": [
    {
     "name": "stdout",
     "output_type": "stream",
     "text": [
      "Ramón García,7.6,Historia\n",
      "Ramón García ha sacado un 7.6 en Historia\n"
     ]
    }
   ],
   "source": [
    "# Variables disponibles\n",
    "cadena_corrupta = \"airotsiH,6.7,aícraG nómaR\"\n",
    " \n",
    "# Empezamos dando la vuelta a la cadena corrupta\n",
    "cadena_volteada = cadena_corrupta[::-1]\n",
    "print(cadena_volteada)\n",
    " \n",
    "# Luego extraemos cada porción de la cadena con slicing en diferentes variables\n",
    "nombre          = cadena_volteada[:12]\n",
    "nota            = cadena_volteada[13:16]\n",
    "materia         = cadena_volteada[17:]\n",
    "\n",
    "# Completa el ejercicio\n",
    "cadena_volteada = nombre+\",\"+nota+\",\"+materia\n",
    "cadena_formateada = f\"{nombre} ha sacado un {nota} en {materia}\"\n",
    "print(cadena_formateada)"
   ]
  },
  {
   "cell_type": "code",
   "execution_count": null,
   "metadata": {},
   "outputs": [],
   "source": []
  }
 ],
 "metadata": {
  "anaconda-cloud": {},
  "kernelspec": {
   "display_name": "Python 3",
   "language": "python",
   "name": "python3"
  },
  "language_info": {
   "codemirror_mode": {
    "name": "ipython",
    "version": 3
   },
   "file_extension": ".py",
   "mimetype": "text/x-python",
   "name": "python",
   "nbconvert_exporter": "python",
   "pygments_lexer": "ipython3",
   "version": "3.10.6"
  },
  "vscode": {
   "interpreter": {
    "hash": "916dbcbb3f70747c44a77c7bcd40155683ae19c65e1c03b4aa3499c5328201f1"
   }
  }
 },
 "nbformat": 4,
 "nbformat_minor": 0
}
