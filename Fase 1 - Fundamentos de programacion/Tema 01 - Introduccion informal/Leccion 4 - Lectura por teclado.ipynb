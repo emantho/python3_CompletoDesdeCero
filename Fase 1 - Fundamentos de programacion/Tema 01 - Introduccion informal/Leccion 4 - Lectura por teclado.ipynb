{
 "cells": [
  {
   "cell_type": "code",
   "execution_count": 3,
   "metadata": {
    "collapsed": true
   },
   "outputs": [],
   "source": [
    "valor = input() # genera un cuadro de texto para insertar información"
   ]
  },
  {
   "cell_type": "code",
   "execution_count": 4,
   "metadata": {},
   "outputs": [
    {
     "name": "stdout",
     "output_type": "stream",
     "text": [
      "hola\n"
     ]
    }
   ],
   "source": [
    "print(valor)"
   ]
  },
  {
   "cell_type": "code",
   "execution_count": 5,
   "metadata": {},
   "outputs": [],
   "source": [
    "valor = input(\"Ingresa un valor: \")"
   ]
  },
  {
   "cell_type": "code",
   "execution_count": 6,
   "metadata": {},
   "outputs": [
    {
     "name": "stdout",
     "output_type": "stream",
     "text": [
      "Carro\n"
     ]
    }
   ],
   "source": [
    "print(valor)"
   ]
  },
  {
   "cell_type": "code",
   "execution_count": 8,
   "metadata": {},
   "outputs": [
    {
     "ename": "TypeError",
     "evalue": "can only concatenate str (not \"int\") to str",
     "output_type": "error",
     "traceback": [
      "\u001b[0;31m---------------------------------------------------------------------------\u001b[0m",
      "\u001b[0;31mTypeError\u001b[0m                                 Traceback (most recent call last)",
      "Cell \u001b[0;32mIn [8], line 1\u001b[0m\n\u001b[0;32m----> 1\u001b[0m valor \u001b[39m+\u001b[39m \u001b[39m100\u001b[39m\n",
      "\u001b[0;31mTypeError\u001b[0m: can only concatenate str (not \"int\") to str"
     ]
    }
   ],
   "source": [
    "valor + 100 # no es posible hacer operaciones matematicas entre un str y un int/float"
   ]
  },
  {
   "cell_type": "code",
   "execution_count": 18,
   "metadata": {},
   "outputs": [
    {
     "name": "stdout",
     "output_type": "stream",
     "text": [
      "500\n"
     ]
    }
   ],
   "source": [
    "# Se debe convertir el str a numero\n",
    "valor = int(input(\"Ingrese un valor: \"))\n",
    "print(valor)"
   ]
  },
  {
   "cell_type": "code",
   "execution_count": 19,
   "metadata": {},
   "outputs": [],
   "source": [
    "valor += 200"
   ]
  },
  {
   "cell_type": "code",
   "execution_count": 20,
   "metadata": {},
   "outputs": [
    {
     "name": "stdout",
     "output_type": "stream",
     "text": [
      "700\n"
     ]
    }
   ],
   "source": [
    "print(valor)"
   ]
  },
  {
   "attachments": {},
   "cell_type": "markdown",
   "metadata": {},
   "source": [
    "### Inputs\n",
    "\n",
    "Realiza un programa con los siguientes requisitos:\n",
    "\n",
    "Debes leer por teclado dos cadenas de caracteres, una llamada nombre y otra llamada apellido.\n",
    "\n",
    "Debes leer por teclado un número entero llamado edad (recuerda que la variable debe ser de tipo entero).\n",
    "\n",
    "Debes leer por teclado un número flotante llamado numero_magico.\n",
    "\n",
    "Finalmente debes crear una variable cadena_final con el siguiente formato:\n",
    "\n",
    "NOMBRE APELLIDO: Tu número de la suerte es el EDAD*NUMERO_MAGICO\n",
    "Por ejemplo, si se introducen los valores \"Juan\", \"Pérez\", 20 y 4.5 , cadena_final contendrá lo siguiente:\n",
    "\n",
    "Juan Pérez: Tu número de la suerte es el 90.0\n",
    "Nota: En este ejercicio no tienes que intoducir ningún valor en los inputs, sólo programar correctamente las variables y generar la cadena_final tal como se pide. El sistema se encargará de introducir él mismo los valores en los inputs y comprobar que el resultado sea el esperado. Si lo necesitas puedes hacer conversiones entre formatos con las funciones int, float y str, esta última convierte números a cadenas, por ejemplo, str(10) devuelve '10'\n"
   ]
  },
  {
   "cell_type": "code",
   "execution_count": 22,
   "metadata": {},
   "outputs": [
    {
     "name": "stdout",
     "output_type": "stream",
     "text": [
      "Eder Manjarres: Tu número de la suerte es el 50.4\n"
     ]
    }
   ],
   "source": [
    "# Completa el ejercicio\n",
    "nombre = input(\"Introduzca su nombre: \")\n",
    "apellido = input(\"Introduzca su apellido: \")\n",
    "edad = int(input(\"Introduzca su edad: \"))\n",
    "numero_magico = float(input(\"Introduzca un numero decimal: \"))\n",
    "cadena_final = f\"{nombre} {apellido}: Tu número de la suerte es el \" + str(edad*numero_magico)\n",
    "print(cadena_final)"
   ]
  },
  {
   "cell_type": "code",
   "execution_count": null,
   "metadata": {},
   "outputs": [],
   "source": []
  }
 ],
 "metadata": {
  "anaconda-cloud": {},
  "kernelspec": {
   "display_name": "Python 3",
   "language": "python",
   "name": "python3"
  },
  "language_info": {
   "codemirror_mode": {
    "name": "ipython",
    "version": 3
   },
   "file_extension": ".py",
   "mimetype": "text/x-python",
   "name": "python",
   "nbconvert_exporter": "python",
   "pygments_lexer": "ipython3",
   "version": "3.10.6"
  },
  "vscode": {
   "interpreter": {
    "hash": "916dbcbb3f70747c44a77c7bcd40155683ae19c65e1c03b4aa3499c5328201f1"
   }
  }
 },
 "nbformat": 4,
 "nbformat_minor": 0
}
