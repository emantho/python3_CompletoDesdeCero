{
 "cells": [
  {
   "cell_type": "code",
   "execution_count": 2,
   "metadata": {},
   "outputs": [
    {
     "data": {
      "text/plain": [
       "False"
      ]
     },
     "execution_count": 2,
     "metadata": {},
     "output_type": "execute_result"
    }
   ],
   "source": [
    "a = 10\n",
    "b = 5\n",
    "a * b - 2**b >= 20 and not (a % b) != 0"
   ]
  },
  {
   "attachments": {},
   "cell_type": "markdown",
   "metadata": {},
   "source": [
    "#### Normas de precedendias"
   ]
  },
  {
   "cell_type": "code",
   "execution_count": 5,
   "metadata": {},
   "outputs": [
    {
     "data": {
      "text/plain": [
       "False"
      ]
     },
     "execution_count": 5,
     "metadata": {},
     "output_type": "execute_result"
    }
   ],
   "source": [
    "10 * 5 - 2**5 >= 20 and not (10 % 5) != 0\n",
    "\n",
    "# Primero, parentesis\n",
    "10 * 5 - 2**5 >= 20 and not 0 != 0\n",
    "\n",
    "# Segundo, exponencias o raices, siempre de izquierda a derecha\n",
    "10 * 5 - 32 >= 20 and not 0 != 0\n",
    "\n",
    "# Tercer, multiplicación y división, siempre de izquierda a derecha\n",
    "50 - 32 >= 20 and not 0 != 0\n",
    "\n",
    "# Cuarto, sumas y restas, siempre de izquierda a derecha\n",
    "18 >= 20 and not 0 != 0\n",
    "\n",
    "# Quinto, relacionales, NOT tiene prioridad\n",
    "False and not False\n",
    "\n",
    "# Finalmente, logicos\n",
    "False and True\n",
    "\n",
    "\n"
   ]
  },
  {
   "cell_type": "code",
   "execution_count": null,
   "metadata": {},
   "outputs": [],
   "source": []
  }
 ],
 "metadata": {
  "kernelspec": {
   "display_name": "Python 3",
   "language": "python",
   "name": "python3"
  },
  "language_info": {
   "codemirror_mode": {
    "name": "ipython",
    "version": 3
   },
   "file_extension": ".py",
   "mimetype": "text/x-python",
   "name": "python",
   "nbconvert_exporter": "python",
   "pygments_lexer": "ipython3",
   "version": "3.10.6"
  },
  "vscode": {
   "interpreter": {
    "hash": "916dbcbb3f70747c44a77c7bcd40155683ae19c65e1c03b4aa3499c5328201f1"
   }
  }
 },
 "nbformat": 4,
 "nbformat_minor": 0
}
