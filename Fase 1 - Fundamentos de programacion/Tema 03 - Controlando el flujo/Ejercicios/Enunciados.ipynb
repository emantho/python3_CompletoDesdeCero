{
 "cells": [
  {
   "cell_type": "markdown",
   "metadata": {},
   "source": [
    "# Tema 03: Control de flujo (Enunciados)\n",
    "*Nota: Estos ejercicios son optativos para hacer al final de la unidad y están pensados para apoyar tu aprendizaje*."
   ]
  },
  {
   "cell_type": "markdown",
   "metadata": {},
   "source": [
    "**1) Realiza un programa que lea dos números por teclado y permita elegir entre 3 opciones en un menú:** \n",
    "* Mostrar una suma de los dos números\n",
    "* Mostrar una resta de los dos números (el primero menos el segundo)\n",
    "* Mostrar una multiplicación de los dos números\n",
    "* En caso de no introducir una opción válida, el programa informará de que no es correcta."
   ]
  },
  {
   "cell_type": "code",
   "execution_count": 10,
   "metadata": {
    "collapsed": false
   },
   "outputs": [
    {
     "name": "stdout",
     "output_type": "stream",
     "text": [
      "Ingrese dos números para realizar operaciones entre estos\n",
      "El número ingresado es: 1.0\n",
      "El número ingresado es: 2.0\n",
      "La opción ingresada es: 4\n",
      "Hasta pronto!!\n"
     ]
    }
   ],
   "source": [
    "# Completa el ejercicio aquí\n",
    "while True:\n",
    "    print(\"Ingrese dos números para realizar operaciones entre estos\")\n",
    "    numero_1 = float(input(\"Ingrese el primer numero: \"))\n",
    "    print(f\"El número ingresado es: {numero_1}\")\n",
    "    numero_2 = float(input(\"Ingrese el segundo numero: \"))\n",
    "    print(f\"El número ingresado es: {numero_2}\")\n",
    "    opcion = int(input('''Seleccione una opción:\n",
    "    \\t1) Mostrar una suma de los dos números\\n\n",
    "    \\t2) Mostrar una resta de los dos números (primero menos el segundo)\\n\n",
    "    \\t3) Mostrar una multiplicación de los dos números\\n\n",
    "    \\t4) Salir del programa\\n'''))\n",
    "    print(f\"La opción ingresada es: {opcion}\")\n",
    "\n",
    "    if opcion == 1:\n",
    "        print(f\"El resultado de {numero_1} + {numero_2} es {numero_1+numero_2}\")\n",
    "    elif opcion == 2:\n",
    "        print(f\"El resultado de {numero_1} - {numero_2} es {numero_1-numero_2}\")\n",
    "    elif opcion == 3:\n",
    "        print(f\"El resultado de {numero_1} * {numero_2} es {numero_1*numero_2}\")\n",
    "    elif opcion == 4:\n",
    "        print(\"Hasta pronto!!\")\n",
    "        break\n",
    "    else:\n",
    "        print(f\"La opción {opcion} ingresada no es valida, intente de nuevo.\")\n",
    "\n"
   ]
  },
  {
   "attachments": {},
   "cell_type": "markdown",
   "metadata": {},
   "source": [
    "**2) Realiza un programa que lea un número impar por teclado. Si el usuario no introduce un número impar, debe repetise el proceso hasta que lo introduzca correctamente.**"
   ]
  },
  {
   "cell_type": "code",
   "execution_count": 13,
   "metadata": {
    "collapsed": false
   },
   "outputs": [
    {
     "name": "stdout",
     "output_type": "stream",
     "text": [
      "Ingrese un número impar\n",
      "Ingrese un número impar\n",
      "El número ingresado es impar\n"
     ]
    }
   ],
   "source": [
    "# Completa el ejercicio aquí\n",
    "while int(input(\"Ingrese un número impar\")) % 2 == 0:\n",
    "    print(\"Ingrese un número impar\")\n",
    "print(f\"El número ingresado es impar\")"
   ]
  },
  {
   "cell_type": "markdown",
   "metadata": {},
   "source": [
    "**3) Realiza un programa que sume todos los números enteros pares desde el 0 hasta el 100:**\n",
    "\n",
    "*Sugerencia: Puedes utilizar la funciones sum() y range() para hacerlo más fácil. El tercer parámetro en la función range(inicio, fin, salto) indica un salto de números, pruébalo.*"
   ]
  },
  {
   "cell_type": "code",
   "execution_count": 12,
   "metadata": {
    "collapsed": false
   },
   "outputs": [
    {
     "data": {
      "text/plain": [
       "2550"
      ]
     },
     "execution_count": 12,
     "metadata": {},
     "output_type": "execute_result"
    }
   ],
   "source": [
    "# Completa el ejercicio aquí\n",
    "sum((range(0,101,2)))\n"
   ]
  },
  {
   "cell_type": "markdown",
   "metadata": {},
   "source": [
    "**4) Realiza un programa que pida al usuario cuantos números quiere introducir. Luego lee todos los números y realiza una media aritmética:**\n"
   ]
  },
  {
   "cell_type": "code",
   "execution_count": 4,
   "metadata": {
    "collapsed": false
   },
   "outputs": [],
   "source": [
    "# Completa el ejercicio aquí\n"
   ]
  },
  {
   "cell_type": "markdown",
   "metadata": {},
   "source": [
    "**5) Realiza un programa que pida al usuario un número entero del 0 al 9, y que mientras el número no sea correcto se repita el proceso. Luego debe comprobar si el número se encuentra en la lista de números y notificarlo:**\n",
    "\n",
    "*Consejo: La sintaxis \"valor in lista\" permite comprobar fácilmente si un valor se encuentra en una lista (devuelve True o False)*"
   ]
  },
  {
   "cell_type": "code",
   "execution_count": 5,
   "metadata": {
    "collapsed": false
   },
   "outputs": [],
   "source": [
    "# Completa el ejercicio aquí\n",
    "numeros = [1, 3, 6, 9]\n"
   ]
  },
  {
   "cell_type": "markdown",
   "metadata": {},
   "source": [
    "**6) Utilizando la función range() y la conversión a listas genera las siguientes listas dinámicamente:**\n",
    "* Todos los números del 0 al 10 [0, 1, 2, ..., 10]\n",
    "* Todos los números del -10 al 0 [-10, -9, -8, ..., 0]\n",
    "* Todos los números pares del 0 al 20 [0, 2, 4, ..., 20]\n",
    "* Todos los números impares entre -20 y 0 [-19, -17, -15, ..., -1]\n",
    "* Todos los números múltiples de 5 del 0 al 50 [0, 5, 10, ..., 50]\n",
    "\n",
    "*Pista: Utiliza el tercer parámetro de la función range(inicio, fin, salto).*"
   ]
  },
  {
   "cell_type": "code",
   "execution_count": 7,
   "metadata": {
    "collapsed": false
   },
   "outputs": [],
   "source": [
    "# Completa el ejercicio\n"
   ]
  },
  {
   "cell_type": "markdown",
   "metadata": {},
   "source": [
    "**7) Dadas dos listas, debes generar una tercera con todos los elementos que se repitan en ellas, pero no debe repetise ningún elemento en la nueva lista:**"
   ]
  },
  {
   "cell_type": "code",
   "execution_count": 8,
   "metadata": {
    "collapsed": false
   },
   "outputs": [],
   "source": [
    "# Completa el ejercicio aquí\n"
   ]
  }
 ],
 "metadata": {
  "anaconda-cloud": {},
  "kernelspec": {
   "display_name": "Python 3",
   "language": "python",
   "name": "python3"
  },
  "language_info": {
   "codemirror_mode": {
    "name": "ipython",
    "version": 3
   },
   "file_extension": ".py",
   "mimetype": "text/x-python",
   "name": "python",
   "nbconvert_exporter": "python",
   "pygments_lexer": "ipython3",
   "version": "3.10.6"
  },
  "vscode": {
   "interpreter": {
    "hash": "916dbcbb3f70747c44a77c7bcd40155683ae19c65e1c03b4aa3499c5328201f1"
   }
  }
 },
 "nbformat": 4,
 "nbformat_minor": 0
}
