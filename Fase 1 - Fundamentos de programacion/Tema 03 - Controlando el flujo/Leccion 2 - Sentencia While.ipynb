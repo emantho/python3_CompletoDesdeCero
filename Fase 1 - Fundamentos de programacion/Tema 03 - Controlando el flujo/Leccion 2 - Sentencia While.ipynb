{
 "cells": [
  {
   "cell_type": "code",
   "execution_count": 1,
   "metadata": {
    "collapsed": true
   },
   "outputs": [
    {
     "name": "stdout",
     "output_type": "stream",
     "text": [
      "c vale 1\n",
      "c vale 2\n",
      "c vale 3\n",
      "c vale 4\n",
      "c vale 5\n",
      "c vale 6\n"
     ]
    }
   ],
   "source": [
    "c = 0\n",
    "while c <= 5:\n",
    "    c += 1\n",
    "    print(f\"c vale {c}\")"
   ]
  },
  {
   "cell_type": "code",
   "execution_count": 2,
   "metadata": {},
   "outputs": [
    {
     "name": "stdout",
     "output_type": "stream",
     "text": [
      "c vale 1\n",
      "c vale 2\n",
      "c vale 3\n",
      "c vale 4\n",
      "c vale 5\n",
      "c vale 6\n",
      "Se ha completado toda la iteración y c vale 6\n"
     ]
    }
   ],
   "source": [
    "c = 0\n",
    "while c <= 5:\n",
    "    c += 1\n",
    "    print(f\"c vale {c}\")\n",
    "else:\n",
    "    print(f\"Se ha completado toda la iteración y c vale {c}\")"
   ]
  },
  {
   "cell_type": "code",
   "execution_count": 4,
   "metadata": {},
   "outputs": [
    {
     "name": "stdout",
     "output_type": "stream",
     "text": [
      "c vale 1\n",
      "Rompemos el bucle cuando c vale 2\n"
     ]
    }
   ],
   "source": [
    "c = 0\n",
    "while c <= 5:\n",
    "    c += 1\n",
    "    if c == 2:\n",
    "        print(f\"Rompemos el bucle cuando c vale {c}\")\n",
    "        break\n",
    "    print(f\"c vale {c}\")\n",
    "else:\n",
    "    print(f\"Se ha completado toda la iteración y c vale {c}\")"
   ]
  },
  {
   "cell_type": "code",
   "execution_count": 5,
   "metadata": {},
   "outputs": [
    {
     "name": "stdout",
     "output_type": "stream",
     "text": [
      "c vale 1\n",
      "Continuamos con la siguiente iteración cuando cuando c vale 2\n",
      "c vale 3\n",
      "c vale 4\n",
      "c vale 5\n",
      "c vale 6\n",
      "Se ha completado toda la iteración y c vale 6\n"
     ]
    }
   ],
   "source": [
    "c = 0\n",
    "while c <= 5:\n",
    "    c += 1\n",
    "    if c == 2:\n",
    "        print(f\"Continuamos con la siguiente iteración cuando cuando c vale {c}\")\n",
    "        continue\n",
    "    print(f\"c vale {c}\")\n",
    "else:\n",
    "    print(f\"Se ha completado toda la iteración y c vale {c}\")"
   ]
  },
  {
   "cell_type": "code",
   "execution_count": 3,
   "metadata": {},
   "outputs": [
    {
     "name": "stdout",
     "output_type": "stream",
     "text": [
      "Bienvenido\n",
      "¿Que quieres hacer? Escribe una opción.\n",
      "    1) Saludar\n",
      "    2) Sumar dos números\n",
      "    3) Salir\n",
      "El resultado de la suma es: 8.0\n",
      "¿Que quieres hacer? Escribe una opción.\n",
      "    1) Saludar\n",
      "    2) Sumar dos números\n",
      "    3) Salir\n",
      "¡Hasta luego! Ha sido un placer ayudarte\n"
     ]
    }
   ],
   "source": [
    "print(\"Bienvenido\")\n",
    "while(True):\n",
    "    print('''¿Que quieres hacer? Escribe una opción.\n",
    "    1) Saludar\n",
    "    2) Sumar dos números\n",
    "    3) Salir''')\n",
    "    opcion = input()\n",
    "    if opcion == \"1\":\n",
    "        print(\"Hola, espero que la estes pasando bien\")\n",
    "    elif opcion == \"2\":\n",
    "        n1 = float(input(\"introduce el primer número: \"))\n",
    "        n2 = float(input(\"introduce el segundo número: \"))\n",
    "        print(f\"El resultado de la suma es: {n1+n2}\")\n",
    "    elif opcion == \"3\":\n",
    "        print(\"¡Hasta luego! Ha sido un placer ayudarte\")\n",
    "        break\n",
    "    else:\n",
    "        print(\"Comando desconocido, vuelve a intentarlo\")"
   ]
  },
  {
   "cell_type": "code",
   "execution_count": null,
   "metadata": {},
   "outputs": [],
   "source": []
  }
 ],
 "metadata": {
  "kernelspec": {
   "display_name": "Python 3",
   "language": "python",
   "name": "python3"
  },
  "language_info": {
   "codemirror_mode": {
    "name": "ipython",
    "version": 3
   },
   "file_extension": ".py",
   "mimetype": "text/x-python",
   "name": "python",
   "nbconvert_exporter": "python",
   "pygments_lexer": "ipython3",
   "version": "3.10.6"
  },
  "vscode": {
   "interpreter": {
    "hash": "916dbcbb3f70747c44a77c7bcd40155683ae19c65e1c03b4aa3499c5328201f1"
   }
  }
 },
 "nbformat": 4,
 "nbformat_minor": 0
}
