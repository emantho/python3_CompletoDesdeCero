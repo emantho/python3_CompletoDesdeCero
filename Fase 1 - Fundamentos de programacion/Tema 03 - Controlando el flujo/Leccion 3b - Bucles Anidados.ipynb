{
 "cells": [
  {
   "cell_type": "code",
   "execution_count": 1,
   "metadata": {},
   "outputs": [],
   "source": [
    "lista = [\"Hola\", 10, \"Adios\", [50, 100, 150]]"
   ]
  },
  {
   "cell_type": "code",
   "execution_count": 2,
   "metadata": {},
   "outputs": [
    {
     "data": {
      "text/plain": [
       "[50, 100, 150]"
      ]
     },
     "execution_count": 2,
     "metadata": {},
     "output_type": "execute_result"
    }
   ],
   "source": [
    "lista[-1]"
   ]
  },
  {
   "cell_type": "code",
   "execution_count": 3,
   "metadata": {},
   "outputs": [],
   "source": [
    "lista = [\n",
    "    \"Esto es un texto\",             # string / cadena\n",
    "    (1,5,10,15,20,25),              # tupla\n",
    "    [\"Azul\", \"verde\", \"Amrillo\"]    # lista\n",
    "]"
   ]
  },
  {
   "cell_type": "code",
   "execution_count": 4,
   "metadata": {},
   "outputs": [
    {
     "name": "stdout",
     "output_type": "stream",
     "text": [
      "Esto es un texto\n",
      "(1, 5, 10, 15, 20, 25)\n",
      "['Azul', 'verde', 'Amrillo']\n"
     ]
    }
   ],
   "source": [
    "for coleccion in lista:\n",
    "    print(coleccion)"
   ]
  },
  {
   "cell_type": "code",
   "execution_count": 5,
   "metadata": {},
   "outputs": [
    {
     "name": "stdout",
     "output_type": "stream",
     "text": [
      "Esto es un texto -> E\n",
      "Esto es un texto -> s\n",
      "Esto es un texto -> t\n",
      "Esto es un texto -> o\n",
      "Esto es un texto ->  \n",
      "Esto es un texto -> e\n",
      "Esto es un texto -> s\n",
      "Esto es un texto ->  \n",
      "Esto es un texto -> u\n",
      "Esto es un texto -> n\n",
      "Esto es un texto ->  \n",
      "Esto es un texto -> t\n",
      "Esto es un texto -> e\n",
      "Esto es un texto -> x\n",
      "Esto es un texto -> t\n",
      "Esto es un texto -> o\n",
      "(1, 5, 10, 15, 20, 25) -> 1\n",
      "(1, 5, 10, 15, 20, 25) -> 5\n",
      "(1, 5, 10, 15, 20, 25) -> 10\n",
      "(1, 5, 10, 15, 20, 25) -> 15\n",
      "(1, 5, 10, 15, 20, 25) -> 20\n",
      "(1, 5, 10, 15, 20, 25) -> 25\n",
      "['Azul', 'verde', 'Amrillo'] -> Azul\n",
      "['Azul', 'verde', 'Amrillo'] -> verde\n",
      "['Azul', 'verde', 'Amrillo'] -> Amrillo\n"
     ]
    }
   ],
   "source": [
    "for coleccion in lista:\n",
    "    for elemento in coleccion:\n",
    "        print(f\"{coleccion} -> {elemento}\")"
   ]
  },
  {
   "cell_type": "code",
   "execution_count": 6,
   "metadata": {},
   "outputs": [
    {
     "name": "stdout",
     "output_type": "stream",
     "text": [
      "E\n",
      "s\n",
      "t\n",
      "o\n",
      " \n",
      "e\n",
      "s\n",
      " \n",
      "u\n",
      "n\n",
      " \n",
      "t\n",
      "e\n",
      "x\n",
      "t\n",
      "o\n",
      "1\n",
      "5\n",
      "10\n",
      "15\n",
      "20\n",
      "25\n",
      "Azul\n",
      "verde\n",
      "Amrillo\n"
     ]
    }
   ],
   "source": [
    "for indice_coleccion, coleccion in enumerate(lista):\n",
    "    for indice_elemento, elemento in enumerate(coleccion):\n",
    "        print(lista[indice_coleccion][indice_elemento])"
   ]
  },
  {
   "cell_type": "code",
   "execution_count": 9,
   "metadata": {},
   "outputs": [
    {
     "name": "stdout",
     "output_type": "stream",
     "text": [
      "[0, 0, 0]\n",
      "[1, 1, 1]\n",
      "[2, 2, 2]\n"
     ]
    }
   ],
   "source": [
    "tabla = [\n",
    "    [0,0,0],\n",
    "    [1,1,1],\n",
    "    [2,2,2]\n",
    "]\n",
    "\n",
    "for fila in tabla:\n",
    "    print(fila)"
   ]
  },
  {
   "cell_type": "code",
   "execution_count": 12,
   "metadata": {},
   "outputs": [
    {
     "name": "stdout",
     "output_type": "stream",
     "text": [
      "0 0 0 \n",
      "1 1 1 \n",
      "2 2 2 \n"
     ]
    }
   ],
   "source": [
    "for fila in tabla:\n",
    "    for colunma in fila:\n",
    "        print(colunma, end = \" \")\n",
    "    print()"
   ]
  },
  {
   "cell_type": "code",
   "execution_count": 14,
   "metadata": {},
   "outputs": [
    {
     "name": "stdout",
     "output_type": "stream",
     "text": [
      "0 0 0 \n",
      "1 1 1 \n",
      "2 2 2 \n"
     ]
    }
   ],
   "source": [
    "for i, fila in enumerate(tabla):\n",
    "    for j, colunma in enumerate(fila):\n",
    "        print(tabla[i][j], end = \" \")\n",
    "    print()"
   ]
  },
  {
   "cell_type": "code",
   "execution_count": 15,
   "metadata": {},
   "outputs": [],
   "source": [
    "tabla = [\n",
    "    [0,0,0],\n",
    "    [1,1,1],\n",
    "    [2,2,2]\n",
    "]\n",
    "cubo = [\n",
    "    tabla, tabla, tabla\n",
    "]"
   ]
  },
  {
   "cell_type": "code",
   "execution_count": 17,
   "metadata": {},
   "outputs": [
    {
     "name": "stdout",
     "output_type": "stream",
     "text": [
      "0\n",
      "1\n"
     ]
    }
   ],
   "source": [
    "#          x  y  z\n",
    "print(cubo[0][0][0])\n",
    "print(cubo[2][1][2])"
   ]
  },
  {
   "cell_type": "code",
   "execution_count": 28,
   "metadata": {},
   "outputs": [
    {
     "name": "stdout",
     "output_type": "stream",
     "text": [
      "0 0 0 \n",
      "1 1 1 \n",
      "2 2 2 \n",
      "\n",
      "0 0 0 \n",
      "1 1 1 \n",
      "2 2 2 \n",
      "\n",
      "0 0 0 \n",
      "1 1 1 \n",
      "2 2 2 \n",
      "\n"
     ]
    }
   ],
   "source": [
    "for tabla in cubo:\n",
    "    for fila in tabla:\n",
    "        for colunma in fila:\n",
    "            print(colunma, end = \" \")\n",
    "        print()\n",
    "    print()"
   ]
  },
  {
   "cell_type": "code",
   "execution_count": 29,
   "metadata": {},
   "outputs": [
    {
     "name": "stdout",
     "output_type": "stream",
     "text": [
      "0 0 0 \n",
      "1 1 1 \n",
      "2 2 2 \n",
      "\n",
      "0 0 0 \n",
      "1 1 1 \n",
      "2 2 2 \n",
      "\n",
      "0 0 0 \n",
      "1 1 1 \n",
      "2 2 2 \n",
      "\n"
     ]
    }
   ],
   "source": [
    "for k, tabla in enumerate(cubo):\n",
    "    for i, fila in enumerate(tabla):\n",
    "        for j, colunma in enumerate(fila):\n",
    "            print(cubo[k][i][j], end = \" \")\n",
    "        print()\n",
    "    print()"
   ]
  },
  {
   "attachments": {},
   "cell_type": "markdown",
   "metadata": {},
   "source": [
    "#### Bucles anidados\n",
    "\n",
    "En este ejercicio se te va a facilitar una variable matriz repleta de números enteros y de la cuál lo único que sabes es que contiene dos dimensiones.\n",
    "\n",
    "Aquí tienes una estructura de ejemplo ilustrando como se forma (lista con sublistas), muy parecida a una tabla:\n",
    "\n",
    "matriz = [\n",
    "    [8,  7,  0],\n",
    "    [34, 2, -1],\n",
    "    [5, -5, 12]\n",
    "]\n",
    "El objetivo del ejercicio es modificar su contenido dinámicamente, sustituyendo todos sus números pares por 0 y los impares por 1.\n",
    "\n",
    "Siguiendo el ejemplo anterior la matriz tal como quedará después de que la modifiques sería así:\n",
    "\n",
    "matriz = [\n",
    "    [0, 1, 0],\n",
    "    [0, 0, 1],\n",
    "    [1, 1, 0]\n",
    "]\n",
    "Notas:\n",
    "\n",
    "Una forma de entender una matriz bidimensional es como una tabla compuesta de filas y columnas.\n",
    "\n",
    "Las filas y columnas se representan como listas anidadas y eso significa que se pueden recorrer mediante bucles for anidados.\n",
    "\n",
    "Comúnmente al índice que recorre las filas se le denomina i y al de las columnas j, tal como muestra la imagen inferior.\n",
    "\n",
    "Para acceder a una posición dinámicamente será necesario entonces utilizar ambos índices, tal que así: matriz[i][j]\n",
    "\n",
    "Recuerda utilizar la función enumerate para conseguir los índices, teniendo en cuenta que primero se recorren las filas y de ellas las columnas, siendo cada columna el propio valor a tratar.\n",
    "\n"
   ]
  },
  {
   "cell_type": "code",
   "execution_count": null,
   "metadata": {},
   "outputs": [],
   "source": []
  }
 ],
 "metadata": {
  "kernelspec": {
   "display_name": "Python 3",
   "language": "python",
   "name": "python3"
  },
  "language_info": {
   "codemirror_mode": {
    "name": "ipython",
    "version": 3
   },
   "file_extension": ".py",
   "mimetype": "text/x-python",
   "name": "python",
   "nbconvert_exporter": "python",
   "pygments_lexer": "ipython3",
   "version": "3.10.6"
  },
  "orig_nbformat": 4,
  "vscode": {
   "interpreter": {
    "hash": "916dbcbb3f70747c44a77c7bcd40155683ae19c65e1c03b4aa3499c5328201f1"
   }
  }
 },
 "nbformat": 4,
 "nbformat_minor": 2
}
