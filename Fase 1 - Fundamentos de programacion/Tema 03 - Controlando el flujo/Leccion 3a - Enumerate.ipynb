{
 "cells": [
  {
   "attachments": {},
   "cell_type": "markdown",
   "metadata": {},
   "source": [
    "##### Enumerate convierte el contenido de una lista en subtuplas donde se identifica indice y valor"
   ]
  },
  {
   "cell_type": "code",
   "execution_count": 1,
   "metadata": {},
   "outputs": [
    {
     "name": "stdout",
     "output_type": "stream",
     "text": [
      "Hola\n",
      "4\n",
      "Adios\n",
      "[1, 2, 3]\n"
     ]
    }
   ],
   "source": [
    "elementos = [\"Hola\", 4, \"Adios\", [1,2,3]]\n",
    "\n",
    "for e in elementos:\n",
    "    print(e)"
   ]
  },
  {
   "attachments": {},
   "cell_type": "markdown",
   "metadata": {},
   "source": [
    "#### Usando enumerate"
   ]
  },
  {
   "cell_type": "code",
   "execution_count": 2,
   "metadata": {},
   "outputs": [
    {
     "name": "stdout",
     "output_type": "stream",
     "text": [
      "0 Hola\n",
      "1 4\n",
      "2 Adios\n",
      "3 [1, 2, 3]\n"
     ]
    }
   ],
   "source": [
    "elementos = [\"Hola\", 4, \"Adios\", [1,2,3]]\n",
    "\n",
    "for i,e in enumerate(elementos):\n",
    "    print(i,e)"
   ]
  },
  {
   "cell_type": "code",
   "execution_count": 5,
   "metadata": {},
   "outputs": [
    {
     "name": "stdout",
     "output_type": "stream",
     "text": [
      "10 50 100\n"
     ]
    }
   ],
   "source": [
    "a, b, c = 10, 50, 100\n",
    "print(a,b,c)"
   ]
  },
  {
   "cell_type": "code",
   "execution_count": 7,
   "metadata": {},
   "outputs": [
    {
     "name": "stdout",
     "output_type": "stream",
     "text": [
      "<enumerate object at 0x7fb750074880>\n",
      "[(0, 'Hola'), (1, 4), (2, 'Adios'), (3, [1, 2, 3])]\n"
     ]
    }
   ],
   "source": [
    "print(enumerate(elementos)) # imprimer una posición de memoria\n",
    "print(list(enumerate(elementos))) # imprime el contenido"
   ]
  },
  {
   "attachments": {},
   "cell_type": "markdown",
   "metadata": {},
   "source": [
    "#### Iteraciones y conversiones\n",
    "\n",
    "Pide al usuario que introduzca un número entero por teclado entre 1 y 9 (ambos incluidos) y guárdalo en la variable numero. Debes asegurarte de que esa variable numero contiene un numero entero del 1 al 9, utiliza un bucle para repetir la lectura hasta que se cumpla esa condición.\n",
    "\n",
    "Genera una lista llamada multiplos que contenga los múltiplos de numero en el rango de 1 a 100 (ambos incluidos) utilizando la conversión de un range a list con un paso: list(range(Min,Max,Paso)).\n",
    "\n",
    "IMPORTANTE:\n",
    "\n",
    "La función range permite especificar un paso/salto en un tercer argumento, es decir, cada cuantos números se genera uno en el rango. Prueba este ejemplo y saca tus conclusiones, te servirá para solucionar el ejercicio:\n",
    "\n",
    "list(range(0, 30, 5))  # range con salto de 5\n",
    "No olvides que la función range incluye el mínimo pero excluye el máximo.\n",
    "\n",
    "Puedes leer este artículo si necesitas repasar cómo calcular los números múltiplos."
   ]
  },
  {
   "cell_type": "code",
   "execution_count": 12,
   "metadata": {},
   "outputs": [
    {
     "name": "stdout",
     "output_type": "stream",
     "text": [
      "[5, 10, 15, 20, 25, 30, 35, 40, 45, 50, 55, 60, 65, 70, 75, 80, 85, 90, 95, 100]\n"
     ]
    }
   ],
   "source": [
    "multiplos = []\n",
    "\n",
    "# Completa el ejercicio \n",
    "\n",
    "while True:\n",
    "    numero = int(input(\"Ingrese un número: \"))\n",
    "    if numero >= 1 and numero <= 9:\n",
    "        multiplos = list(range(numero,101,numero))\n",
    "        break\n",
    "\n",
    "print(multiplos)"
   ]
  },
  {
   "attachments": {},
   "cell_type": "markdown",
   "metadata": {},
   "source": [
    "##### Otra solución"
   ]
  },
  {
   "cell_type": "code",
   "execution_count": 14,
   "metadata": {},
   "outputs": [
    {
     "name": "stdout",
     "output_type": "stream",
     "text": [
      "[4, 8, 12, 16, 20, 24, 28, 32, 36, 40, 44, 48, 52, 56, 60, 64, 68, 72, 76, 80, 84, 88, 92, 96, 100]\n"
     ]
    }
   ],
   "source": [
    "multiplos = []\n",
    " \n",
    "# Empezamos leyendo un número entero por teclado\n",
    "numero = int(input())\n",
    " \n",
    "# Volveremos a leerlo mientras el número no se encuentre entre 1 y 9 (ambos incluidos)\n",
    "while numero < 1 or numero > 9:\n",
    "    numero = int(input())\n",
    " \n",
    "# Generamos con range toda la lista de múltiplos entre el numero y 100\n",
    "multiplos = list(range(numero, 101, numero))\n",
    "print(multiplos)\n"
   ]
  },
  {
   "cell_type": "code",
   "execution_count": null,
   "metadata": {},
   "outputs": [],
   "source": []
  }
 ],
 "metadata": {
  "kernelspec": {
   "display_name": "Python 3",
   "language": "python",
   "name": "python3"
  },
  "language_info": {
   "codemirror_mode": {
    "name": "ipython",
    "version": 3
   },
   "file_extension": ".py",
   "mimetype": "text/x-python",
   "name": "python",
   "nbconvert_exporter": "python",
   "pygments_lexer": "ipython3",
   "version": "3.10.6"
  },
  "orig_nbformat": 4,
  "vscode": {
   "interpreter": {
    "hash": "916dbcbb3f70747c44a77c7bcd40155683ae19c65e1c03b4aa3499c5328201f1"
   }
  }
 },
 "nbformat": 4,
 "nbformat_minor": 2
}
