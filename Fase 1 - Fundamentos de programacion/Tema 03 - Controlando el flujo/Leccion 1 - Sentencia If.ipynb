{
 "cells": [
  {
   "cell_type": "code",
   "execution_count": 1,
   "metadata": {
    "collapsed": true
   },
   "outputs": [
    {
     "name": "stdout",
     "output_type": "stream",
     "text": [
      "Se cumple la condición\n",
      "También se muestra este print\n"
     ]
    }
   ],
   "source": [
    "if True:\n",
    "    print(\"Se cumple la condición\")\n",
    "    print(\"También se muestra este print\")"
   ]
  },
  {
   "cell_type": "code",
   "execution_count": 2,
   "metadata": {},
   "outputs": [
    {
     "name": "stdout",
     "output_type": "stream",
     "text": [
      "a vale 5\n"
     ]
    }
   ],
   "source": [
    "a = 5\n",
    "if a == 2:\n",
    "    print(f\"a vale {a}\")\n",
    "if a == 5:\n",
    "    print(f\"a vale {a}\")"
   ]
  },
  {
   "cell_type": "code",
   "execution_count": 4,
   "metadata": {},
   "outputs": [
    {
     "name": "stdout",
     "output_type": "stream",
     "text": [
      "a vale 5\n",
      "y b vale 10\n"
     ]
    }
   ],
   "source": [
    "a = 5\n",
    "b = 10\n",
    "if a == 5:\n",
    "    print(f\"a vale {a}\")\n",
    "    if b == 10:\n",
    "        print(f\"y b vale {b}\")"
   ]
  },
  {
   "cell_type": "code",
   "execution_count": 5,
   "metadata": {},
   "outputs": [
    {
     "name": "stdout",
     "output_type": "stream",
     "text": [
      "a vale 5 y b vale 10\n"
     ]
    }
   ],
   "source": [
    "if a ==5 and b == 10:\n",
    "    print(f\"a vale {a} y b vale {b}\")"
   ]
  },
  {
   "attachments": {},
   "cell_type": "markdown",
   "metadata": {},
   "source": [
    "#### ELSE"
   ]
  },
  {
   "cell_type": "code",
   "execution_count": 7,
   "metadata": {},
   "outputs": [
    {
     "name": "stdout",
     "output_type": "stream",
     "text": [
      "10 es un número par\n"
     ]
    }
   ],
   "source": [
    "n = 10\n",
    "if n % 2 == 0:\n",
    "    print(f\"{n} es un número par\")\n",
    "else: \n",
    "    print(f\"{n} es un número impar\")"
   ]
  },
  {
   "attachments": {},
   "cell_type": "markdown",
   "metadata": {},
   "source": [
    "#### ELIF"
   ]
  },
  {
   "cell_type": "code",
   "execution_count": 10,
   "metadata": {},
   "outputs": [
    {
     "name": "stdout",
     "output_type": "stream",
     "text": [
      "Saliendo del sistema\n"
     ]
    }
   ],
   "source": [
    "comando = \"salir\"\n",
    "if comando == \"entrar\":\n",
    "    print(f\"Bienvenido al sistema\")\n",
    "elif comando == \"saludar\":\n",
    "    print(f\"Hola, espero que éstes disfrutando bien aprendiendo Python\")\n",
    "elif comando == \"salir\":\n",
    "    print(f\"Saliendo del sistema\")\n",
    "else:\n",
    "    print(f\"Este comando no se reconoce\")"
   ]
  },
  {
   "cell_type": "code",
   "execution_count": 12,
   "metadata": {},
   "outputs": [
    {
     "name": "stdout",
     "output_type": "stream",
     "text": [
      "Notable\n"
     ]
    }
   ],
   "source": [
    "nota = float(input(\"Ingrese una nota: \"))\n",
    "\n",
    "if nota >= 9:\n",
    "    print(\"Sobresaliente\")\n",
    "elif nota >= 7:\n",
    "    print(\"Notable\")\n",
    "elif nota >= 6:\n",
    "    print(\"Bien\")\n",
    "elif nota >= 5:\n",
    "    print(\"Suficiente\")\n",
    "else:\n",
    "    print(\"Insuficiente\")"
   ]
  },
  {
   "attachments": {},
   "cell_type": "markdown",
   "metadata": {},
   "source": [
    "#### pass"
   ]
  },
  {
   "cell_type": "code",
   "execution_count": 14,
   "metadata": {},
   "outputs": [],
   "source": [
    "if True:\n",
    "    pass # sirve para dejar una instrucción en blanco"
   ]
  },
  {
   "attachments": {},
   "cell_type": "markdown",
   "metadata": {},
   "source": [
    "##### Condiciones\n",
    "\n",
    "Utilizando una condición if-elif-else debes realizar un programa que compare la longitud de dos variables (cadena_1 y cadena_2) y en función del resultado almacene un valor en otra variable llamada resultado:\n",
    "\n",
    "Si cadena_1 es más larga que cadena_2 la variable resultado deberá tener el valor entero 1.\n",
    "\n",
    "Si cadena_1 es más corta que cadena_2 la variable resultado deberá tener el valor entero 2.\n",
    "\n",
    "Si cadena_1 tiene la misma longitud que cadena_2 la variable resultado deberá tener el valor entero 0.\n",
    "\n",
    "Notas:\n",
    "\n",
    "Las variables cadena_1 y cadena_2 se importan de otro fichero y no puedes editarlas.\n",
    "\n",
    "Recuerda que puedes conseguir la longitud de una cadena usando len(cadena)"
   ]
  },
  {
   "cell_type": "code",
   "execution_count": null,
   "metadata": {},
   "outputs": [],
   "source": [
    "# Variables del ejercicio (no las edites)\n",
    "from evaluate import cadena_1, cadena_2\n",
    "\n",
    "# Completa el ejercicio a partir de aquí\n",
    "if len(cadena_1) > len(cadena_2):\n",
    "    resultado = 1\n",
    "elif len(cadena_1) < len(cadena_2):\n",
    "    resultado = 2\n",
    "else:\n",
    "    resultado = 0"
   ]
  },
  {
   "attachments": {},
   "cell_type": "markdown",
   "metadata": {},
   "source": [
    "### Sentencia Match-Case (Python 3.10)"
   ]
  },
  {
   "cell_type": "code",
   "execution_count": 16,
   "metadata": {},
   "outputs": [
    {
     "name": "stdout",
     "output_type": "stream",
     "text": [
      "Opción A\n"
     ]
    }
   ],
   "source": [
    "opcion = input()\n",
    " \n",
    "match opcion:\n",
    "    case \"A\":\n",
    "        print(\"Opción A\")\n",
    "    case \"B\":\n",
    "        print(\"Opción B\")\n",
    "    case \"C\":\n",
    "        print(\"Opción C\")\n",
    "    case _:\n",
    "        print(\"Opción por defecto\")"
   ]
  },
  {
   "cell_type": "markdown",
   "metadata": {},
   "source": []
  }
 ],
 "metadata": {
  "kernelspec": {
   "display_name": "Python 3",
   "language": "python",
   "name": "python3"
  },
  "language_info": {
   "codemirror_mode": {
    "name": "ipython",
    "version": 3
   },
   "file_extension": ".py",
   "mimetype": "text/x-python",
   "name": "python",
   "nbconvert_exporter": "python",
   "pygments_lexer": "ipython3",
   "version": "3.10.6"
  },
  "vscode": {
   "interpreter": {
    "hash": "916dbcbb3f70747c44a77c7bcd40155683ae19c65e1c03b4aa3499c5328201f1"
   }
  }
 },
 "nbformat": 4,
 "nbformat_minor": 0
}
