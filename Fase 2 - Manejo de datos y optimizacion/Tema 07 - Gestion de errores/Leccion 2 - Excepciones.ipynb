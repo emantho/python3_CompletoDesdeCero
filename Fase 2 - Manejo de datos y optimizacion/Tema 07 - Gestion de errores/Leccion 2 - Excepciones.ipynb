{
 "cells": [
  {
   "cell_type": "code",
   "execution_count": 1,
   "metadata": {},
   "outputs": [
    {
     "name": "stdout",
     "output_type": "stream",
     "text": [
      "Ha ocurrido un error, introduce bien el número\n"
     ]
    }
   ],
   "source": [
    "try: \n",
    "    n = float(input(\"Introduce un número: \"))\n",
    "    m = 4\n",
    "    print(f\"{n}/{m}={n/m}\")\n",
    "\n",
    "except:\n",
    "    print(f\"Ha ocurrido un error, introduce bien el número\")\n"
   ]
  },
  {
   "attachments": {},
   "cell_type": "markdown",
   "metadata": {},
   "source": [
    "#### try - except\n",
    "utiliza un except para avisar de una excepción simple y ejecutará el codigo hastas que se cumpla la ejecución\n",
    "try -> captura el error\n",
    "except -> Para definir un codigo excepcional que se ejecute al haber un error"
   ]
  },
  {
   "cell_type": "code",
   "execution_count": 2,
   "metadata": {},
   "outputs": [
    {
     "name": "stdout",
     "output_type": "stream",
     "text": [
      "Ha ocurrido un error, introduce bien el número\n",
      "Ha ocurrido un error, introduce bien el número\n",
      "Ha ocurrido un error, introduce bien el número\n",
      "Ha ocurrido un error, introduce bien el número\n",
      "7.0/4=1.75\n"
     ]
    }
   ],
   "source": [
    "while(True):\n",
    "    try: \n",
    "        n = float(input(\"Introduce un número: \"))\n",
    "        m = 4\n",
    "        print(f\"{n}/{m}={n/m}\")\n",
    "        break # Saldra del while siempre que se ingrese un número\n",
    "    \n",
    "    except:\n",
    "        print(f\"Ha ocurrido un error, introduce bien el número\")"
   ]
  },
  {
   "attachments": {},
   "cell_type": "markdown",
   "metadata": {},
   "source": [
    "#### try - except - else\n",
    "Este tipo de programas ejecuta el try, con condiciones y con else que siempre se ejecutará siempre que no exista alguna excepción, añade un paso más del anterior pero también un punto más de información.\n",
    "\n",
    "else -> ejecutar el codigo siempre que no exista un error"
   ]
  },
  {
   "cell_type": "code",
   "execution_count": 3,
   "metadata": {},
   "outputs": [
    {
     "name": "stdout",
     "output_type": "stream",
     "text": [
      "9.0/4=2.25\n",
      "Todo ha funcionado correctamente\n"
     ]
    }
   ],
   "source": [
    "while(True):\n",
    "    try: \n",
    "        n = float(input(\"Introduce un número: \"))\n",
    "        m = 4\n",
    "        print(f\"{n}/{m}={n/m}\")\n",
    "    \n",
    "    except:\n",
    "        print(f\"Ha ocurrido un error, introduce bien el número\")\n",
    "\n",
    "    else:\n",
    "        print(f\"Todo ha funcionado correctamente\")\n",
    "        break # Saldra del while siempre que se ingrese un número\n"
   ]
  },
  {
   "attachments": {},
   "cell_type": "markdown",
   "metadata": {},
   "source": [
    "#### try - except - else - finally\n",
    "Finally -> siempre se ejecutará al final del codigo"
   ]
  },
  {
   "cell_type": "code",
   "execution_count": 4,
   "metadata": {},
   "outputs": [
    {
     "name": "stdout",
     "output_type": "stream",
     "text": [
      "Ha ocurrido un error, introduce bien el número\n",
      "Fin de la iteración\n",
      "7.0/4=1.75\n",
      "Todo ha funcionado correctamente\n",
      "Fin de la iteración\n"
     ]
    }
   ],
   "source": [
    "while(True):\n",
    "    try: \n",
    "        n = float(input(\"Introduce un número: \"))\n",
    "        m = 4\n",
    "        print(f\"{n}/{m}={n/m}\")\n",
    "    \n",
    "    except:\n",
    "        print(f\"Ha ocurrido un error, introduce bien el número\")\n",
    "\n",
    "    else:\n",
    "        print(f\"Todo ha funcionado correctamente\")\n",
    "        break # Saldra del while siempre que se ingrese un número\n",
    "    finally:\n",
    "        print(f\"Fin de la iteración\")"
   ]
  },
  {
   "attachments": {},
   "cell_type": "markdown",
   "metadata": {},
   "source": [
    "#### Excepciones\n",
    "\n",
    "Tomando la solución al anterior ejercicio, en lugar de devolver None al dividir entre cero, debes capturar una excepción que muestre por pantalla EXACTAMENTE el mensaje No se puede dividir entre cero si falla el código.\n",
    "\n"
   ]
  },
  {
   "cell_type": "code",
   "execution_count": 6,
   "metadata": {},
   "outputs": [
    {
     "name": "stdout",
     "output_type": "stream",
     "text": [
      "0.75\n"
     ]
    }
   ],
   "source": [
    "# completa el ejercicio\n",
    "def dividir(a, b):\n",
    "    try:\n",
    "        return a/b\n",
    "    except:\n",
    "        print(\"No se puede dividir entre cero\")\n",
    "\n",
    "d = dividir(3,4)\n",
    "print(d)"
   ]
  },
  {
   "cell_type": "code",
   "execution_count": null,
   "metadata": {},
   "outputs": [],
   "source": []
  }
 ],
 "metadata": {
  "kernelspec": {
   "display_name": "Python 3",
   "language": "python",
   "name": "python3"
  },
  "language_info": {
   "codemirror_mode": {
    "name": "ipython",
    "version": 3
   },
   "file_extension": ".py",
   "mimetype": "text/x-python",
   "name": "python",
   "nbconvert_exporter": "python",
   "pygments_lexer": "ipython3",
   "version": "3.10.6"
  },
  "vscode": {
   "interpreter": {
    "hash": "916dbcbb3f70747c44a77c7bcd40155683ae19c65e1c03b4aa3499c5328201f1"
   }
  }
 },
 "nbformat": 4,
 "nbformat_minor": 0
}
