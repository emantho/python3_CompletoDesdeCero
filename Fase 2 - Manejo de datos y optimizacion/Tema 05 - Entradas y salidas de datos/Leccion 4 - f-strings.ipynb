{
 "cells": [
  {
   "attachments": {},
   "cell_type": "markdown",
   "metadata": {},
   "source": [
    "Utilizando .format() "
   ]
  },
  {
   "cell_type": "code",
   "execution_count": 1,
   "metadata": {},
   "outputs": [
    {
     "name": "stdout",
     "output_type": "stream",
     "text": [
      "Hola Hector\n"
     ]
    }
   ],
   "source": [
    "nombre = \"Hector\"\n",
    "cadena = \"Hola {}\".format(nombre)\n",
    "print(cadena)"
   ]
  },
  {
   "attachments": {},
   "cell_type": "markdown",
   "metadata": {},
   "source": [
    "Utilizando f-strings"
   ]
  },
  {
   "cell_type": "code",
   "execution_count": 2,
   "metadata": {},
   "outputs": [
    {
     "name": "stdout",
     "output_type": "stream",
     "text": [
      "Hola Hector\n"
     ]
    }
   ],
   "source": [
    "nombre = \"Hector\"\n",
    "cadena = f\"Hola {nombre}\"\n",
    "print(cadena)"
   ]
  },
  {
   "cell_type": "code",
   "execution_count": 3,
   "metadata": {},
   "outputs": [
    {
     "name": "stdout",
     "output_type": "stream",
     "text": [
      "La suma de 10 y 5 es 15\n"
     ]
    }
   ],
   "source": [
    "a, b = 10 ,5\n",
    "print(f\"La suma de {a} y {b} es {a+b}\")"
   ]
  },
  {
   "cell_type": "code",
   "execution_count": 4,
   "metadata": {},
   "outputs": [
    {
     "name": "stdout",
     "output_type": "stream",
     "text": [
      "Hola Pepe!\n"
     ]
    }
   ],
   "source": [
    "def func():\n",
    "    return \"Pepe\"\n",
    "\n",
    "print(f\"Hola {func()}!\")"
   ]
  },
  {
   "cell_type": "code",
   "execution_count": 5,
   "metadata": {},
   "outputs": [
    {
     "name": "stdout",
     "output_type": "stream",
     "text": [
      "El número dos es 2\n"
     ]
    }
   ],
   "source": [
    "numero = {\"uno\":1, \"dos\":2, \"tres\": 3}\n",
    "print(f\"El número dos es {numero['dos']}\")"
   ]
  },
  {
   "attachments": {},
   "cell_type": "markdown",
   "metadata": {},
   "source": [
    "#### Formateos avanzados\n",
    "Alineamientos"
   ]
  },
  {
   "cell_type": "code",
   "execution_count": 6,
   "metadata": {},
   "outputs": [
    {
     "name": "stdout",
     "output_type": "stream",
     "text": [
      "Hola mundo                              \n"
     ]
    }
   ],
   "source": [
    "print(f\"{'Hola mundo':40}\") # a la izquierda 40 caracteres"
   ]
  },
  {
   "cell_type": "code",
   "execution_count": 7,
   "metadata": {},
   "outputs": [
    {
     "name": "stdout",
     "output_type": "stream",
     "text": [
      "Hola Mundo                              \n",
      "                              Hola Mundo\n",
      "               Hola Mundo               \n"
     ]
    }
   ],
   "source": [
    "texto = \"Hola Mundo\"\n",
    "\n",
    "print(f\"{texto:40}\")        # a la izquierda 40 caracteres\n",
    "print(f\"{texto:>40}\")       # a la derecha 40 caracteres\n",
    "print(f\"{texto:^40}\")       # al centro 40 caracteres"
   ]
  },
  {
   "attachments": {},
   "cell_type": "markdown",
   "metadata": {},
   "source": [
    "Truncamiento"
   ]
  },
  {
   "cell_type": "code",
   "execution_count": 8,
   "metadata": {},
   "outputs": [
    {
     "name": "stdout",
     "output_type": "stream",
     "text": [
      "Hola\n"
     ]
    }
   ],
   "source": [
    "print(f\"{texto:.4}\")        # Primeros 4 caracteres"
   ]
  },
  {
   "attachments": {},
   "cell_type": "markdown",
   "metadata": {},
   "source": [
    "Trucamiento con variables"
   ]
  },
  {
   "cell_type": "code",
   "execution_count": 9,
   "metadata": {},
   "outputs": [
    {
     "name": "stdout",
     "output_type": "stream",
     "text": [
      "Hola\n"
     ]
    }
   ],
   "source": [
    "limite = 4\n",
    "print(f\"{texto:.{limite}}\")     # Primeros 4 caracteres"
   ]
  },
  {
   "attachments": {},
   "cell_type": "markdown",
   "metadata": {},
   "source": [
    "Alineamiento con truncamiento"
   ]
  },
  {
   "cell_type": "code",
   "execution_count": 10,
   "metadata": {},
   "outputs": [
    {
     "name": "stdout",
     "output_type": "stream",
     "text": [
      "                          Hola\n",
      "Hola                          \n",
      "             Hola             \n"
     ]
    }
   ],
   "source": [
    "print(f\"{texto:>30.4}\")\n",
    "print(f\"{texto:<30.4}\")\n",
    "print(f\"{texto:^30.4}\")"
   ]
  },
  {
   "attachments": {},
   "cell_type": "markdown",
   "metadata": {},
   "source": [
    "Alineamiento con truncamientos y variables"
   ]
  },
  {
   "cell_type": "code",
   "execution_count": 11,
   "metadata": {},
   "outputs": [
    {
     "name": "stdout",
     "output_type": "stream",
     "text": [
      "                          Hola\n",
      "Hola                          \n",
      "             Hola             \n"
     ]
    }
   ],
   "source": [
    "limite = 4\n",
    "longitud = 30\n",
    "\n",
    "print(f\"{texto:>{longitud}.{limite}}\")\n",
    "print(f\"{texto:<{longitud}.{limite}}\")\n",
    "print(f\"{texto:^{longitud}.{limite}}\")"
   ]
  },
  {
   "attachments": {},
   "cell_type": "markdown",
   "metadata": {},
   "source": [
    "Formateo con números enteros, rellenados con espacios"
   ]
  },
  {
   "cell_type": "code",
   "execution_count": 13,
   "metadata": {},
   "outputs": [
    {
     "name": "stdout",
     "output_type": "stream",
     "text": [
      "     1\n",
      "    10\n",
      "   100\n",
      "  1000\n",
      " 10000\n",
      "100000\n"
     ]
    }
   ],
   "source": [
    "print(f\"{1:6d}\")\n",
    "print(f\"{10:6d}\")\n",
    "print(f\"{100:6d}\")\n",
    "print(f\"{1000:6d}\")\n",
    "print(f\"{10000:6d}\")\n",
    "print(f\"{100000:6d}\")"
   ]
  },
  {
   "attachments": {},
   "cell_type": "markdown",
   "metadata": {},
   "source": [
    "Formateo con números enteros, rellenados con espacios"
   ]
  },
  {
   "cell_type": "code",
   "execution_count": 14,
   "metadata": {},
   "outputs": [
    {
     "name": "stdout",
     "output_type": "stream",
     "text": [
      "000001\n",
      "000010\n",
      "000100\n",
      "001000\n",
      "010000\n",
      "100000\n"
     ]
    }
   ],
   "source": [
    "print(f\"{1:06d}\")\n",
    "print(f\"{10:06d}\")\n",
    "print(f\"{100:06d}\")\n",
    "print(f\"{1000:06d}\")\n",
    "print(f\"{10000:06d}\")\n",
    "print(f\"{100000:06d}\")"
   ]
  },
  {
   "attachments": {},
   "cell_type": "markdown",
   "metadata": {},
   "source": [
    "Formateo de números flotantes, rellenados con espacios"
   ]
  },
  {
   "cell_type": "code",
   "execution_count": 16,
   "metadata": {},
   "outputs": [
    {
     "name": "stdout",
     "output_type": "stream",
     "text": [
      "  3.142\n",
      "153.210\n"
     ]
    }
   ],
   "source": [
    "# 4 digitos: 3 enteros, 1 punto y 3 decimales\n",
    "print(f\"{3.1415926:7.3f}\")\n",
    "print(f\"{153.21:7.3f}\")"
   ]
  },
  {
   "attachments": {},
   "cell_type": "markdown",
   "metadata": {},
   "source": [
    "Formateo de números flotantes, rellenados con espacios"
   ]
  },
  {
   "cell_type": "code",
   "execution_count": 18,
   "metadata": {},
   "outputs": [
    {
     "name": "stdout",
     "output_type": "stream",
     "text": [
      "003.142\n",
      "153.210\n"
     ]
    }
   ],
   "source": [
    "# 4 digitos: 3 enteros, 1 punto y 3 decimales\n",
    "print(f\"{3.1415926:07.3f}\")\n",
    "print(f\"{153.21:07.3f}\")"
   ]
  },
  {
   "attachments": {},
   "cell_type": "markdown",
   "metadata": {},
   "source": [
    "Formateo números con variables"
   ]
  },
  {
   "cell_type": "code",
   "execution_count": 19,
   "metadata": {},
   "outputs": [
    {
     "name": "stdout",
     "output_type": "stream",
     "text": [
      "0000000003.1415926000\n"
     ]
    }
   ],
   "source": [
    "numero = 3.1415926\n",
    "longitud = 21           # 1 para el decimal\n",
    "decimales = 10\n",
    "\n",
    "print(f\"{numero:0{longitud}.{decimales}f}\")"
   ]
  },
  {
   "cell_type": "code",
   "execution_count": null,
   "metadata": {},
   "outputs": [],
   "source": []
  }
 ],
 "metadata": {
  "kernelspec": {
   "display_name": "Python 3",
   "language": "python",
   "name": "python3"
  },
  "language_info": {
   "codemirror_mode": {
    "name": "ipython",
    "version": 3
   },
   "file_extension": ".py",
   "mimetype": "text/x-python",
   "name": "python",
   "nbconvert_exporter": "python",
   "pygments_lexer": "ipython3",
   "version": "3.10.6"
  },
  "orig_nbformat": 4,
  "vscode": {
   "interpreter": {
    "hash": "916dbcbb3f70747c44a77c7bcd40155683ae19c65e1c03b4aa3499c5328201f1"
   }
  }
 },
 "nbformat": 4,
 "nbformat_minor": 2
}
