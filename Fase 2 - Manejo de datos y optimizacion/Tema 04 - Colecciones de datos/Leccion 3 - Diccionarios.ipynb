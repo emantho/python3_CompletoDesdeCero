{
 "cells": [
  {
   "cell_type": "code",
   "execution_count": 2,
   "metadata": {},
   "outputs": [
    {
     "name": "stdout",
     "output_type": "stream",
     "text": [
      "{}\n",
      "<class 'dict'>\n"
     ]
    }
   ],
   "source": [
    "vacio = {}\n",
    "print(vacio)\n",
    "print(type(vacio))"
   ]
  },
  {
   "cell_type": "code",
   "execution_count": 7,
   "metadata": {},
   "outputs": [],
   "source": [
    "# colores = {key:values} o {claves:valores}\n",
    "colores = {\"Amarillo\":\"Yellow\",\"Azul\":\"Blue\",\"Verde\":\"Green\"}"
   ]
  },
  {
   "cell_type": "code",
   "execution_count": 4,
   "metadata": {},
   "outputs": [
    {
     "data": {
      "text/plain": [
       "'Yellow'"
      ]
     },
     "execution_count": 4,
     "metadata": {},
     "output_type": "execute_result"
    }
   ],
   "source": [
    "colores[\"Amarillo\"]"
   ]
  },
  {
   "attachments": {},
   "cell_type": "markdown",
   "metadata": {},
   "source": [
    "Añadir un nuevo valor"
   ]
  },
  {
   "cell_type": "code",
   "execution_count": 5,
   "metadata": {},
   "outputs": [],
   "source": [
    "colores[\"amarillo\"] = \"White\""
   ]
  },
  {
   "attachments": {},
   "cell_type": "markdown",
   "metadata": {},
   "source": [
    "Editando key existente"
   ]
  },
  {
   "cell_type": "code",
   "execution_count": 21,
   "metadata": {},
   "outputs": [],
   "source": [
    "# dict[new_key]     = dict[old_key]\n",
    "colores[\"Blanco\"] = colores[\"amarillo\"]\n",
    "# del dict[old_key]\n",
    "del colores[\"amarillo\"]"
   ]
  },
  {
   "cell_type": "code",
   "execution_count": 22,
   "metadata": {},
   "outputs": [
    {
     "name": "stdout",
     "output_type": "stream",
     "text": [
      "{'Amarillo': 'Yellow', 'Azul': 'Blue', 'Verde': 'Green', 'Blanco': 'White'}\n"
     ]
    }
   ],
   "source": [
    "print(colores)"
   ]
  },
  {
   "cell_type": "code",
   "execution_count": 1,
   "metadata": {},
   "outputs": [],
   "source": [
    "edades = {\"eder\":36, \"diana\": 37, \"emilia\":4}"
   ]
  },
  {
   "cell_type": "code",
   "execution_count": 3,
   "metadata": {},
   "outputs": [],
   "source": [
    "edades[\"diana\"]-=1"
   ]
  },
  {
   "cell_type": "code",
   "execution_count": 4,
   "metadata": {},
   "outputs": [
    {
     "name": "stdout",
     "output_type": "stream",
     "text": [
      "{'eder': 36, 'diana': 36, 'emilia': 4}\n"
     ]
    }
   ],
   "source": [
    "print(edades)"
   ]
  },
  {
   "cell_type": "code",
   "execution_count": 5,
   "metadata": {},
   "outputs": [
    {
     "data": {
      "text/plain": [
       "40"
      ]
     },
     "execution_count": 5,
     "metadata": {},
     "output_type": "execute_result"
    }
   ],
   "source": [
    "edades[\"eder\"]+edades[\"emilia\"]"
   ]
  },
  {
   "cell_type": "code",
   "execution_count": 8,
   "metadata": {},
   "outputs": [
    {
     "name": "stdout",
     "output_type": "stream",
     "text": [
      "eder\n",
      "diana\n",
      "emilia\n"
     ]
    }
   ],
   "source": [
    "# para mostrar solo las key (claves)\n",
    "for edad in edades:\n",
    "    print(edad)"
   ]
  },
  {
   "cell_type": "code",
   "execution_count": 11,
   "metadata": {},
   "outputs": [
    {
     "name": "stdout",
     "output_type": "stream",
     "text": [
      "36\n",
      "36\n",
      "4\n"
     ]
    }
   ],
   "source": [
    "# para mostrar solo los values (valores)\n",
    "for clave in edades:\n",
    "    #print(dict[key]) para que solo imprima los valores de esa key\n",
    "    print(edades[clave])"
   ]
  },
  {
   "cell_type": "code",
   "execution_count": 13,
   "metadata": {},
   "outputs": [
    {
     "name": "stdout",
     "output_type": "stream",
     "text": [
      "eder 36\n",
      "diana 36\n",
      "emilia 4\n"
     ]
    }
   ],
   "source": [
    "# para mostrar tanto key como value\n",
    "for clave in edades:\n",
    "    #print(key, dict[key]) así se imprime la key y luego su contenido\n",
    "    print(clave, edades[clave])"
   ]
  },
  {
   "cell_type": "code",
   "execution_count": null,
   "metadata": {},
   "outputs": [],
   "source": []
  }
 ],
 "metadata": {
  "kernelspec": {
   "display_name": "Python 3",
   "language": "python",
   "name": "python3"
  },
  "language_info": {
   "codemirror_mode": {
    "name": "ipython",
    "version": 3
   },
   "file_extension": ".py",
   "mimetype": "text/x-python",
   "name": "python",
   "nbconvert_exporter": "python",
   "pygments_lexer": "ipython3",
   "version": "3.10.6"
  },
  "vscode": {
   "interpreter": {
    "hash": "916dbcbb3f70747c44a77c7bcd40155683ae19c65e1c03b4aa3499c5328201f1"
   }
  }
 },
 "nbformat": 4,
 "nbformat_minor": 0
}
