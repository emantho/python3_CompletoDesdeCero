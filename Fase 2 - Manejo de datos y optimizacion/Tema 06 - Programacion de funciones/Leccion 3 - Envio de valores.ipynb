{
 "cells": [
  {
   "cell_type": "code",
   "execution_count": 4,
   "metadata": {},
   "outputs": [
    {
     "name": "stdout",
     "output_type": "stream",
     "text": [
      "7\n"
     ]
    }
   ],
   "source": [
    "def suma(a,b): # Se llaman parámetros cuando se indican en la función\n",
    "   return a+b\n",
    "\n",
    "r = suma(2,5) # Se llaman argumentos cuando se usan en el llamado de la función\n",
    "print(r)"
   ]
  },
  {
   "attachments": {},
   "cell_type": "markdown",
   "metadata": {},
   "source": [
    "#### Funciones\n",
    "\n",
    "Realiza una función llamada par_o_impar(numero) que imprima por pantalla PAR o IMPAR (todo en mayúsculas) dependiendo de si numero es par o impar.\n",
    "\n",
    "Notas:\n",
    "\n",
    "Se debe imprimir única y exclusivamente PAR o IMPAR o la comprobación de la solución fallará.\n",
    "\n",
    "Única y exclusivamente tienes que programar la función, no debe haber ningún otro código en el ejercicio."
   ]
  },
  {
   "cell_type": "code",
   "execution_count": 5,
   "metadata": {},
   "outputs": [],
   "source": [
    "# Completa el ejercicio\n",
    "def par_o_impar(numero):\n",
    "    if numero % 2 == 0:\n",
    "        print(\"PAR\")\n",
    "    else:\n",
    "        print(\"IMPAR\")"
   ]
  },
  {
   "attachments": {},
   "cell_type": "markdown",
   "metadata": {},
   "source": [
    "#### Funciones completas\n",
    "\n",
    "Realiza una función llamada recortar(numero, minimo, maximo) que reciba tres argumentos:\n",
    "\n",
    "El primero es el número a recortar\n",
    "\n",
    "El segundo es el límite inferior\n",
    "\n",
    "El tercero el límite superior.\n",
    "\n",
    "La función tendrá que cumplir lo siguiente:\n",
    "\n",
    "Devolver el límite inferior si el número es menor que éste\n",
    "\n",
    "Devolver el límite superior si el número es mayor que éste.\n",
    "\n",
    "Devolver el número sin cambios si no se supera ningún límite.\n",
    "\n",
    "Notas:\n",
    "\n",
    "Única y exclusivamente tienes que programar la función, no debe haber ningún otro código en el ejercicio."
   ]
  },
  {
   "cell_type": "code",
   "execution_count": 6,
   "metadata": {},
   "outputs": [],
   "source": [
    "# Completa el ejercicio\n",
    "def recortar(numero, minimo, maximo):\n",
    "    if numero < minimo:\n",
    "        return minimo\n",
    "    elif numero > maximo:\n",
    "        return maximo\n",
    "    else:\n",
    "        return numero"
   ]
  },
  {
   "cell_type": "code",
   "execution_count": null,
   "metadata": {},
   "outputs": [],
   "source": []
  }
 ],
 "metadata": {
  "kernelspec": {
   "display_name": "Python 3",
   "language": "python",
   "name": "python3"
  },
  "language_info": {
   "codemirror_mode": {
    "name": "ipython",
    "version": 3
   },
   "file_extension": ".py",
   "mimetype": "text/x-python",
   "name": "python",
   "nbconvert_exporter": "python",
   "pygments_lexer": "ipython3",
   "version": "3.10.6"
  },
  "vscode": {
   "interpreter": {
    "hash": "916dbcbb3f70747c44a77c7bcd40155683ae19c65e1c03b4aa3499c5328201f1"
   }
  }
 },
 "nbformat": 4,
 "nbformat_minor": 0
}
