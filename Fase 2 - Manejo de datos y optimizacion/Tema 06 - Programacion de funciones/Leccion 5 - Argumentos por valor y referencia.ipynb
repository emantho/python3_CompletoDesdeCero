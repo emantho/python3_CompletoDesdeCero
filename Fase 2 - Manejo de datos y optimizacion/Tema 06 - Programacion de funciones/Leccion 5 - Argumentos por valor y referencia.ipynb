{
 "cells": [
  {
   "attachments": {},
   "cell_type": "markdown",
   "metadata": {},
   "source": [
    "Parametros y argumentos por valor"
   ]
  },
  {
   "cell_type": "code",
   "execution_count": 6,
   "metadata": {},
   "outputs": [
    {
     "data": {
      "text/plain": [
       "10"
      ]
     },
     "execution_count": 6,
     "metadata": {},
     "output_type": "execute_result"
    }
   ],
   "source": [
    "def doblar_valor(numero):\n",
    "    numero *= 2\n",
    "\n",
    "n = 10\n",
    "doblar_valor(n)\n",
    "n"
   ]
  },
  {
   "cell_type": "code",
   "execution_count": 5,
   "metadata": {},
   "outputs": [
    {
     "data": {
      "text/plain": [
       "[20, 100, 200]"
      ]
     },
     "execution_count": 5,
     "metadata": {},
     "output_type": "execute_result"
    }
   ],
   "source": [
    "def doblar_valores(numero):\n",
    "    for i,n in enumerate(numero):\n",
    "        numero[i] *= 2\n",
    "ns = [10,50,100]\n",
    "doblar_valores(ns)\n",
    "ns"
   ]
  },
  {
   "attachments": {},
   "cell_type": "markdown",
   "metadata": {},
   "source": [
    "devolviendo el valor y asignandolo a la misma variable"
   ]
  },
  {
   "cell_type": "code",
   "execution_count": 7,
   "metadata": {},
   "outputs": [
    {
     "data": {
      "text/plain": [
       "20"
      ]
     },
     "execution_count": 7,
     "metadata": {},
     "output_type": "execute_result"
    }
   ],
   "source": [
    "def doblar_valor(numero):\n",
    "    return numero * 2\n",
    "\n",
    "n = 10\n",
    "n = doblar_valor(n)\n",
    "n"
   ]
  },
  {
   "attachments": {},
   "cell_type": "markdown",
   "metadata": {},
   "source": [
    "Usando copia de colecciones, con esto se evita la modificación de la colección original"
   ]
  },
  {
   "cell_type": "code",
   "execution_count": 10,
   "metadata": {},
   "outputs": [
    {
     "name": "stdout",
     "output_type": "stream",
     "text": [
      "[10, 50, 100]\n",
      "None\n"
     ]
    }
   ],
   "source": [
    "def doblar_valores(numero):\n",
    "    for i,n in enumerate(numero):\n",
    "        numero[i] *= 2\n",
    "ns = [10,50,100]\n",
    "nl = doblar_valores(ns[:])\n",
    "print(ns)\n",
    "print(nl)"
   ]
  },
  {
   "cell_type": "code",
   "execution_count": null,
   "metadata": {},
   "outputs": [],
   "source": []
  }
 ],
 "metadata": {
  "kernelspec": {
   "display_name": "Python 3",
   "language": "python",
   "name": "python3"
  },
  "language_info": {
   "codemirror_mode": {
    "name": "ipython",
    "version": 3
   },
   "file_extension": ".py",
   "mimetype": "text/x-python",
   "name": "python",
   "nbconvert_exporter": "python",
   "pygments_lexer": "ipython3",
   "version": "3.10.6"
  },
  "vscode": {
   "interpreter": {
    "hash": "916dbcbb3f70747c44a77c7bcd40155683ae19c65e1c03b4aa3499c5328201f1"
   }
  }
 },
 "nbformat": 4,
 "nbformat_minor": 0
}
