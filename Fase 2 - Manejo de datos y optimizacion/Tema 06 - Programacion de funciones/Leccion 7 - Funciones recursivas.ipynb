{
 "cells": [
  {
   "cell_type": "code",
   "execution_count": 3,
   "metadata": {},
   "outputs": [
    {
     "name": "stdout",
     "output_type": "stream",
     "text": [
      "4\n",
      "3\n",
      "2\n",
      "1\n",
      "Boooooom!\n",
      "Fin de la función 0\n",
      "Fin de la función 1\n",
      "Fin de la función 2\n",
      "Fin de la función 3\n",
      "Fin de la función 4\n"
     ]
    }
   ],
   "source": [
    "def cuenta_atras(num):\n",
    "    num -= 1\n",
    "    if num > 0:\n",
    "        print(num)\n",
    "        cuenta_atras(num)\n",
    "    else:\n",
    "        print(\"Boooooom!\")\n",
    "    print(f\"Fin de la función {num}\")\n",
    "\n",
    "cuenta_atras(5)"
   ]
  },
  {
   "cell_type": "code",
   "execution_count": 4,
   "metadata": {},
   "outputs": [
    {
     "data": {
      "text/plain": [
       "120"
      ]
     },
     "execution_count": 4,
     "metadata": {},
     "output_type": "execute_result"
    }
   ],
   "source": [
    "def factorial(num):\n",
    "    if num > 1:\n",
    "        num = num * factorial(num - 1)\n",
    "    return num\n",
    "\n",
    "factorial(5)"
   ]
  },
  {
   "cell_type": "code",
   "execution_count": 5,
   "metadata": {},
   "outputs": [
    {
     "name": "stdout",
     "output_type": "stream",
     "text": [
      "Valor inicial -> 5\n",
      "Valor inicial -> 4\n",
      "Valor inicial -> 3\n",
      "Valor inicial -> 2\n",
      "Valor inicial -> 1\n",
      "Valor final de este factorial es -> 1\n",
      "Valor final de este factorial es -> 2\n",
      "Valor final de este factorial es -> 6\n",
      "Valor final de este factorial es -> 24\n",
      "Valor final de este factorial es -> 120\n"
     ]
    },
    {
     "data": {
      "text/plain": [
       "120"
      ]
     },
     "execution_count": 5,
     "metadata": {},
     "output_type": "execute_result"
    }
   ],
   "source": [
    "def factorial(num):\n",
    "    print(f\"Valor inicial -> {num}\")\n",
    "    if num > 1:\n",
    "        num = num * factorial(num - 1)\n",
    "    print(f\"Valor final de este factorial es -> {num}\")\n",
    "    return num\n",
    "\n",
    "factorial(5)"
   ]
  },
  {
   "attachments": {},
   "cell_type": "markdown",
   "metadata": {},
   "source": [
    "#### Funciones recursivas\n",
    "\n",
    "Realiza una función recursiva llamada sumatorio(numero), que sin utilizar ningún bucle, sume todos los números desde numero hasta 1 y devuelva la suma total, dando por hecho que numero es siempre un entero.\n",
    "\n",
    "Ejemplos:\n",
    "\n",
    "sumatorio(3) => 3+2+1 = 6 (Devolverá 6)\n",
    "sumatorio(5) => 5+4+3+2+1 = 15 (Devolverá 15)\n",
    "\n",
    "Notas:\n",
    "\n",
    "Única y exclusivamente tienes que programar la función, no debe haber ningún otro código en el ejercicio.\n",
    "\n",
    "No puedes utilizar bucles, debes generar las iteraciones mediante la recursividad de la propia función."
   ]
  },
  {
   "cell_type": "code",
   "execution_count": 6,
   "metadata": {},
   "outputs": [],
   "source": [
    "# Completa el ejercicio\n",
    "def sumatorio(numero):\n",
    "    if numero > 0:\n",
    "        numero += sumatorio(numero - 1)\n",
    "    \n",
    "    return numero"
   ]
  },
  {
   "cell_type": "code",
   "execution_count": null,
   "metadata": {},
   "outputs": [],
   "source": []
  }
 ],
 "metadata": {
  "kernelspec": {
   "display_name": "Python 3",
   "language": "python",
   "name": "python3"
  },
  "language_info": {
   "codemirror_mode": {
    "name": "ipython",
    "version": 3
   },
   "file_extension": ".py",
   "mimetype": "text/x-python",
   "name": "python",
   "nbconvert_exporter": "python",
   "pygments_lexer": "ipython3",
   "version": "3.10.6"
  },
  "vscode": {
   "interpreter": {
    "hash": "916dbcbb3f70747c44a77c7bcd40155683ae19c65e1c03b4aa3499c5328201f1"
   }
  }
 },
 "nbformat": 4,
 "nbformat_minor": 0
}
